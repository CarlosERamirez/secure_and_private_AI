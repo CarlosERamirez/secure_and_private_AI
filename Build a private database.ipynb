{
 "cells": [
  {
   "cell_type": "markdown",
   "metadata": {},
   "source": [
    "<b>Generate parallel databases</b>\n",
    "<p>Key to the definition of differential privacy is the ability to ask the question \"When querying a database, if I removed someone from the database, would the output of the query be any different?\". Thus, in order to check this, we must construct what we term \"parallel databases\", wich are simply databases with one entry removed.</p>\n",
    "<p>In this first project, I am going to create a list of every parallel database to the one currently contained in the \"db\" variable.</p>\n",
    "Then, I am going to create a function which both:\n",
    "<ul>\n",
    "    <li>creates the initial database(db)</li>\n",
    "    <li>creates all parallel databases</li>\n",
    "<ul>"
   ]
  },
  {
   "cell_type": "code",
   "execution_count": 1,
   "metadata": {},
   "outputs": [
    {
     "data": {
      "text/plain": [
       "tensor([0, 1, 1,  ..., 0, 0, 0], dtype=torch.uint8)"
      ]
     },
     "execution_count": 1,
     "metadata": {},
     "output_type": "execute_result"
    }
   ],
   "source": [
    "import torch\n",
    "\n",
    "#the number of entries in our database\n",
    "num_entries = 5000\n",
    "\n",
    "db = torch.rand(num_entries) > 0.5\n",
    "db"
   ]
  },
  {
   "cell_type": "code",
   "execution_count": 2,
   "metadata": {},
   "outputs": [
    {
     "data": {
      "text/plain": [
       "tensor([0, 1, 1, 1, 0], dtype=torch.uint8)"
      ]
     },
     "execution_count": 2,
     "metadata": {},
     "output_type": "execute_result"
    }
   ],
   "source": [
    "remove_index = 2\n",
    "db[0:5]"
   ]
  },
  {
   "cell_type": "code",
   "execution_count": 3,
   "metadata": {},
   "outputs": [],
   "source": [
    "def get_parallel_db(db, remove_index):\n",
    "    return torch.cat((db[0:remove_index],\n",
    "                      db[remove_index + 1:]))"
   ]
  },
  {
   "cell_type": "code",
   "execution_count": 4,
   "metadata": {},
   "outputs": [
    {
     "data": {
      "text/plain": [
       "torch.Size([4999])"
      ]
     },
     "execution_count": 4,
     "metadata": {},
     "output_type": "execute_result"
    }
   ],
   "source": [
    "get_parallel_db(db, 3).shape"
   ]
  },
  {
   "cell_type": "code",
   "execution_count": 5,
   "metadata": {},
   "outputs": [
    {
     "data": {
      "text/plain": [
       "torch.Size([5000])"
      ]
     },
     "execution_count": 5,
     "metadata": {},
     "output_type": "execute_result"
    }
   ],
   "source": [
    "get_parallel_db(db, 11111).shape"
   ]
  },
  {
   "cell_type": "code",
   "execution_count": 6,
   "metadata": {},
   "outputs": [],
   "source": [
    "def get_parallel_dbs(db):\n",
    "    \n",
    "    parallel_dbs = list()\n",
    "    \n",
    "    for i in range(len(db)):\n",
    "        pdb = get_parallel_db(db, i)\n",
    "        parallel_dbs.append(pdb)\n",
    "    \n",
    "    return parallel_dbs"
   ]
  },
  {
   "cell_type": "code",
   "execution_count": 7,
   "metadata": {},
   "outputs": [],
   "source": [
    "pdbs = get_parallel_dbs(db)"
   ]
  },
  {
   "cell_type": "code",
   "execution_count": 8,
   "metadata": {},
   "outputs": [
    {
     "data": {
      "text/plain": [
       "[tensor([1, 1, 1,  ..., 0, 0, 0], dtype=torch.uint8),\n",
       " tensor([0, 1, 1,  ..., 0, 0, 0], dtype=torch.uint8),\n",
       " tensor([0, 1, 1,  ..., 0, 0, 0], dtype=torch.uint8),\n",
       " tensor([0, 1, 1,  ..., 0, 0, 0], dtype=torch.uint8),\n",
       " tensor([0, 1, 1,  ..., 0, 0, 0], dtype=torch.uint8),\n",
       " tensor([0, 1, 1,  ..., 0, 0, 0], dtype=torch.uint8),\n",
       " tensor([0, 1, 1,  ..., 0, 0, 0], dtype=torch.uint8),\n",
       " tensor([0, 1, 1,  ..., 0, 0, 0], dtype=torch.uint8),\n",
       " tensor([0, 1, 1,  ..., 0, 0, 0], dtype=torch.uint8),\n",
       " tensor([0, 1, 1,  ..., 0, 0, 0], dtype=torch.uint8),\n",
       " tensor([0, 1, 1,  ..., 0, 0, 0], dtype=torch.uint8),\n",
       " tensor([0, 1, 1,  ..., 0, 0, 0], dtype=torch.uint8),\n",
       " tensor([0, 1, 1,  ..., 0, 0, 0], dtype=torch.uint8),\n",
       " tensor([0, 1, 1,  ..., 0, 0, 0], dtype=torch.uint8),\n",
       " tensor([0, 1, 1,  ..., 0, 0, 0], dtype=torch.uint8),\n",
       " tensor([0, 1, 1,  ..., 0, 0, 0], dtype=torch.uint8),\n",
       " tensor([0, 1, 1,  ..., 0, 0, 0], dtype=torch.uint8),\n",
       " tensor([0, 1, 1,  ..., 0, 0, 0], dtype=torch.uint8),\n",
       " tensor([0, 1, 1,  ..., 0, 0, 0], dtype=torch.uint8),\n",
       " tensor([0, 1, 1,  ..., 0, 0, 0], dtype=torch.uint8),\n",
       " tensor([0, 1, 1,  ..., 0, 0, 0], dtype=torch.uint8),\n",
       " tensor([0, 1, 1,  ..., 0, 0, 0], dtype=torch.uint8),\n",
       " tensor([0, 1, 1,  ..., 0, 0, 0], dtype=torch.uint8),\n",
       " tensor([0, 1, 1,  ..., 0, 0, 0], dtype=torch.uint8),\n",
       " tensor([0, 1, 1,  ..., 0, 0, 0], dtype=torch.uint8),\n",
       " tensor([0, 1, 1,  ..., 0, 0, 0], dtype=torch.uint8),\n",
       " tensor([0, 1, 1,  ..., 0, 0, 0], dtype=torch.uint8),\n",
       " tensor([0, 1, 1,  ..., 0, 0, 0], dtype=torch.uint8),\n",
       " tensor([0, 1, 1,  ..., 0, 0, 0], dtype=torch.uint8),\n",
       " tensor([0, 1, 1,  ..., 0, 0, 0], dtype=torch.uint8),\n",
       " tensor([0, 1, 1,  ..., 0, 0, 0], dtype=torch.uint8),\n",
       " tensor([0, 1, 1,  ..., 0, 0, 0], dtype=torch.uint8),\n",
       " tensor([0, 1, 1,  ..., 0, 0, 0], dtype=torch.uint8),\n",
       " tensor([0, 1, 1,  ..., 0, 0, 0], dtype=torch.uint8),\n",
       " tensor([0, 1, 1,  ..., 0, 0, 0], dtype=torch.uint8),\n",
       " tensor([0, 1, 1,  ..., 0, 0, 0], dtype=torch.uint8),\n",
       " tensor([0, 1, 1,  ..., 0, 0, 0], dtype=torch.uint8),\n",
       " tensor([0, 1, 1,  ..., 0, 0, 0], dtype=torch.uint8),\n",
       " tensor([0, 1, 1,  ..., 0, 0, 0], dtype=torch.uint8),\n",
       " tensor([0, 1, 1,  ..., 0, 0, 0], dtype=torch.uint8),\n",
       " tensor([0, 1, 1,  ..., 0, 0, 0], dtype=torch.uint8),\n",
       " tensor([0, 1, 1,  ..., 0, 0, 0], dtype=torch.uint8),\n",
       " tensor([0, 1, 1,  ..., 0, 0, 0], dtype=torch.uint8),\n",
       " tensor([0, 1, 1,  ..., 0, 0, 0], dtype=torch.uint8),\n",
       " tensor([0, 1, 1,  ..., 0, 0, 0], dtype=torch.uint8),\n",
       " tensor([0, 1, 1,  ..., 0, 0, 0], dtype=torch.uint8),\n",
       " tensor([0, 1, 1,  ..., 0, 0, 0], dtype=torch.uint8),\n",
       " tensor([0, 1, 1,  ..., 0, 0, 0], dtype=torch.uint8),\n",
       " tensor([0, 1, 1,  ..., 0, 0, 0], dtype=torch.uint8),\n",
       " tensor([0, 1, 1,  ..., 0, 0, 0], dtype=torch.uint8),\n",
       " tensor([0, 1, 1,  ..., 0, 0, 0], dtype=torch.uint8),\n",
       " tensor([0, 1, 1,  ..., 0, 0, 0], dtype=torch.uint8),\n",
       " tensor([0, 1, 1,  ..., 0, 0, 0], dtype=torch.uint8),\n",
       " tensor([0, 1, 1,  ..., 0, 0, 0], dtype=torch.uint8),\n",
       " tensor([0, 1, 1,  ..., 0, 0, 0], dtype=torch.uint8),\n",
       " tensor([0, 1, 1,  ..., 0, 0, 0], dtype=torch.uint8),\n",
       " tensor([0, 1, 1,  ..., 0, 0, 0], dtype=torch.uint8),\n",
       " tensor([0, 1, 1,  ..., 0, 0, 0], dtype=torch.uint8),\n",
       " tensor([0, 1, 1,  ..., 0, 0, 0], dtype=torch.uint8),\n",
       " tensor([0, 1, 1,  ..., 0, 0, 0], dtype=torch.uint8),\n",
       " tensor([0, 1, 1,  ..., 0, 0, 0], dtype=torch.uint8),\n",
       " tensor([0, 1, 1,  ..., 0, 0, 0], dtype=torch.uint8),\n",
       " tensor([0, 1, 1,  ..., 0, 0, 0], dtype=torch.uint8),\n",
       " tensor([0, 1, 1,  ..., 0, 0, 0], dtype=torch.uint8),\n",
       " tensor([0, 1, 1,  ..., 0, 0, 0], dtype=torch.uint8),\n",
       " tensor([0, 1, 1,  ..., 0, 0, 0], dtype=torch.uint8),\n",
       " tensor([0, 1, 1,  ..., 0, 0, 0], dtype=torch.uint8),\n",
       " tensor([0, 1, 1,  ..., 0, 0, 0], dtype=torch.uint8),\n",
       " tensor([0, 1, 1,  ..., 0, 0, 0], dtype=torch.uint8),\n",
       " tensor([0, 1, 1,  ..., 0, 0, 0], dtype=torch.uint8),\n",
       " tensor([0, 1, 1,  ..., 0, 0, 0], dtype=torch.uint8),\n",
       " tensor([0, 1, 1,  ..., 0, 0, 0], dtype=torch.uint8),\n",
       " tensor([0, 1, 1,  ..., 0, 0, 0], dtype=torch.uint8),\n",
       " tensor([0, 1, 1,  ..., 0, 0, 0], dtype=torch.uint8),\n",
       " tensor([0, 1, 1,  ..., 0, 0, 0], dtype=torch.uint8),\n",
       " tensor([0, 1, 1,  ..., 0, 0, 0], dtype=torch.uint8),\n",
       " tensor([0, 1, 1,  ..., 0, 0, 0], dtype=torch.uint8),\n",
       " tensor([0, 1, 1,  ..., 0, 0, 0], dtype=torch.uint8),\n",
       " tensor([0, 1, 1,  ..., 0, 0, 0], dtype=torch.uint8),\n",
       " tensor([0, 1, 1,  ..., 0, 0, 0], dtype=torch.uint8),\n",
       " tensor([0, 1, 1,  ..., 0, 0, 0], dtype=torch.uint8),\n",
       " tensor([0, 1, 1,  ..., 0, 0, 0], dtype=torch.uint8),\n",
       " tensor([0, 1, 1,  ..., 0, 0, 0], dtype=torch.uint8),\n",
       " tensor([0, 1, 1,  ..., 0, 0, 0], dtype=torch.uint8),\n",
       " tensor([0, 1, 1,  ..., 0, 0, 0], dtype=torch.uint8),\n",
       " tensor([0, 1, 1,  ..., 0, 0, 0], dtype=torch.uint8),\n",
       " tensor([0, 1, 1,  ..., 0, 0, 0], dtype=torch.uint8),\n",
       " tensor([0, 1, 1,  ..., 0, 0, 0], dtype=torch.uint8),\n",
       " tensor([0, 1, 1,  ..., 0, 0, 0], dtype=torch.uint8),\n",
       " tensor([0, 1, 1,  ..., 0, 0, 0], dtype=torch.uint8),\n",
       " tensor([0, 1, 1,  ..., 0, 0, 0], dtype=torch.uint8),\n",
       " tensor([0, 1, 1,  ..., 0, 0, 0], dtype=torch.uint8),\n",
       " tensor([0, 1, 1,  ..., 0, 0, 0], dtype=torch.uint8),\n",
       " tensor([0, 1, 1,  ..., 0, 0, 0], dtype=torch.uint8),\n",
       " tensor([0, 1, 1,  ..., 0, 0, 0], dtype=torch.uint8),\n",
       " tensor([0, 1, 1,  ..., 0, 0, 0], dtype=torch.uint8),\n",
       " tensor([0, 1, 1,  ..., 0, 0, 0], dtype=torch.uint8),\n",
       " tensor([0, 1, 1,  ..., 0, 0, 0], dtype=torch.uint8),\n",
       " tensor([0, 1, 1,  ..., 0, 0, 0], dtype=torch.uint8),\n",
       " tensor([0, 1, 1,  ..., 0, 0, 0], dtype=torch.uint8),\n",
       " tensor([0, 1, 1,  ..., 0, 0, 0], dtype=torch.uint8),\n",
       " tensor([0, 1, 1,  ..., 0, 0, 0], dtype=torch.uint8),\n",
       " tensor([0, 1, 1,  ..., 0, 0, 0], dtype=torch.uint8),\n",
       " tensor([0, 1, 1,  ..., 0, 0, 0], dtype=torch.uint8),\n",
       " tensor([0, 1, 1,  ..., 0, 0, 0], dtype=torch.uint8),\n",
       " tensor([0, 1, 1,  ..., 0, 0, 0], dtype=torch.uint8),\n",
       " tensor([0, 1, 1,  ..., 0, 0, 0], dtype=torch.uint8),\n",
       " tensor([0, 1, 1,  ..., 0, 0, 0], dtype=torch.uint8),\n",
       " tensor([0, 1, 1,  ..., 0, 0, 0], dtype=torch.uint8),\n",
       " tensor([0, 1, 1,  ..., 0, 0, 0], dtype=torch.uint8),\n",
       " tensor([0, 1, 1,  ..., 0, 0, 0], dtype=torch.uint8),\n",
       " tensor([0, 1, 1,  ..., 0, 0, 0], dtype=torch.uint8),\n",
       " tensor([0, 1, 1,  ..., 0, 0, 0], dtype=torch.uint8),\n",
       " tensor([0, 1, 1,  ..., 0, 0, 0], dtype=torch.uint8),\n",
       " tensor([0, 1, 1,  ..., 0, 0, 0], dtype=torch.uint8),\n",
       " tensor([0, 1, 1,  ..., 0, 0, 0], dtype=torch.uint8),\n",
       " tensor([0, 1, 1,  ..., 0, 0, 0], dtype=torch.uint8),\n",
       " tensor([0, 1, 1,  ..., 0, 0, 0], dtype=torch.uint8),\n",
       " tensor([0, 1, 1,  ..., 0, 0, 0], dtype=torch.uint8),\n",
       " tensor([0, 1, 1,  ..., 0, 0, 0], dtype=torch.uint8),\n",
       " tensor([0, 1, 1,  ..., 0, 0, 0], dtype=torch.uint8),\n",
       " tensor([0, 1, 1,  ..., 0, 0, 0], dtype=torch.uint8),\n",
       " tensor([0, 1, 1,  ..., 0, 0, 0], dtype=torch.uint8),\n",
       " tensor([0, 1, 1,  ..., 0, 0, 0], dtype=torch.uint8),\n",
       " tensor([0, 1, 1,  ..., 0, 0, 0], dtype=torch.uint8),\n",
       " tensor([0, 1, 1,  ..., 0, 0, 0], dtype=torch.uint8),\n",
       " tensor([0, 1, 1,  ..., 0, 0, 0], dtype=torch.uint8),\n",
       " tensor([0, 1, 1,  ..., 0, 0, 0], dtype=torch.uint8),\n",
       " tensor([0, 1, 1,  ..., 0, 0, 0], dtype=torch.uint8),\n",
       " tensor([0, 1, 1,  ..., 0, 0, 0], dtype=torch.uint8),\n",
       " tensor([0, 1, 1,  ..., 0, 0, 0], dtype=torch.uint8),\n",
       " tensor([0, 1, 1,  ..., 0, 0, 0], dtype=torch.uint8),\n",
       " tensor([0, 1, 1,  ..., 0, 0, 0], dtype=torch.uint8),\n",
       " tensor([0, 1, 1,  ..., 0, 0, 0], dtype=torch.uint8),\n",
       " tensor([0, 1, 1,  ..., 0, 0, 0], dtype=torch.uint8),\n",
       " tensor([0, 1, 1,  ..., 0, 0, 0], dtype=torch.uint8),\n",
       " tensor([0, 1, 1,  ..., 0, 0, 0], dtype=torch.uint8),\n",
       " tensor([0, 1, 1,  ..., 0, 0, 0], dtype=torch.uint8),\n",
       " tensor([0, 1, 1,  ..., 0, 0, 0], dtype=torch.uint8),\n",
       " tensor([0, 1, 1,  ..., 0, 0, 0], dtype=torch.uint8),\n",
       " tensor([0, 1, 1,  ..., 0, 0, 0], dtype=torch.uint8),\n",
       " tensor([0, 1, 1,  ..., 0, 0, 0], dtype=torch.uint8),\n",
       " tensor([0, 1, 1,  ..., 0, 0, 0], dtype=torch.uint8),\n",
       " tensor([0, 1, 1,  ..., 0, 0, 0], dtype=torch.uint8),\n",
       " tensor([0, 1, 1,  ..., 0, 0, 0], dtype=torch.uint8),\n",
       " tensor([0, 1, 1,  ..., 0, 0, 0], dtype=torch.uint8),\n",
       " tensor([0, 1, 1,  ..., 0, 0, 0], dtype=torch.uint8),\n",
       " tensor([0, 1, 1,  ..., 0, 0, 0], dtype=torch.uint8),\n",
       " tensor([0, 1, 1,  ..., 0, 0, 0], dtype=torch.uint8),\n",
       " tensor([0, 1, 1,  ..., 0, 0, 0], dtype=torch.uint8),\n",
       " tensor([0, 1, 1,  ..., 0, 0, 0], dtype=torch.uint8),\n",
       " tensor([0, 1, 1,  ..., 0, 0, 0], dtype=torch.uint8),\n",
       " tensor([0, 1, 1,  ..., 0, 0, 0], dtype=torch.uint8),\n",
       " tensor([0, 1, 1,  ..., 0, 0, 0], dtype=torch.uint8),\n",
       " tensor([0, 1, 1,  ..., 0, 0, 0], dtype=torch.uint8),\n",
       " tensor([0, 1, 1,  ..., 0, 0, 0], dtype=torch.uint8),\n",
       " tensor([0, 1, 1,  ..., 0, 0, 0], dtype=torch.uint8),\n",
       " tensor([0, 1, 1,  ..., 0, 0, 0], dtype=torch.uint8),\n",
       " tensor([0, 1, 1,  ..., 0, 0, 0], dtype=torch.uint8),\n",
       " tensor([0, 1, 1,  ..., 0, 0, 0], dtype=torch.uint8),\n",
       " tensor([0, 1, 1,  ..., 0, 0, 0], dtype=torch.uint8),\n",
       " tensor([0, 1, 1,  ..., 0, 0, 0], dtype=torch.uint8),\n",
       " tensor([0, 1, 1,  ..., 0, 0, 0], dtype=torch.uint8),\n",
       " tensor([0, 1, 1,  ..., 0, 0, 0], dtype=torch.uint8),\n",
       " tensor([0, 1, 1,  ..., 0, 0, 0], dtype=torch.uint8),\n",
       " tensor([0, 1, 1,  ..., 0, 0, 0], dtype=torch.uint8),\n",
       " tensor([0, 1, 1,  ..., 0, 0, 0], dtype=torch.uint8),\n",
       " tensor([0, 1, 1,  ..., 0, 0, 0], dtype=torch.uint8),\n",
       " tensor([0, 1, 1,  ..., 0, 0, 0], dtype=torch.uint8),\n",
       " tensor([0, 1, 1,  ..., 0, 0, 0], dtype=torch.uint8),\n",
       " tensor([0, 1, 1,  ..., 0, 0, 0], dtype=torch.uint8),\n",
       " tensor([0, 1, 1,  ..., 0, 0, 0], dtype=torch.uint8),\n",
       " tensor([0, 1, 1,  ..., 0, 0, 0], dtype=torch.uint8),\n",
       " tensor([0, 1, 1,  ..., 0, 0, 0], dtype=torch.uint8),\n",
       " tensor([0, 1, 1,  ..., 0, 0, 0], dtype=torch.uint8),\n",
       " tensor([0, 1, 1,  ..., 0, 0, 0], dtype=torch.uint8),\n",
       " tensor([0, 1, 1,  ..., 0, 0, 0], dtype=torch.uint8),\n",
       " tensor([0, 1, 1,  ..., 0, 0, 0], dtype=torch.uint8),\n",
       " tensor([0, 1, 1,  ..., 0, 0, 0], dtype=torch.uint8),\n",
       " tensor([0, 1, 1,  ..., 0, 0, 0], dtype=torch.uint8),\n",
       " tensor([0, 1, 1,  ..., 0, 0, 0], dtype=torch.uint8),\n",
       " tensor([0, 1, 1,  ..., 0, 0, 0], dtype=torch.uint8),\n",
       " tensor([0, 1, 1,  ..., 0, 0, 0], dtype=torch.uint8),\n",
       " tensor([0, 1, 1,  ..., 0, 0, 0], dtype=torch.uint8),\n",
       " tensor([0, 1, 1,  ..., 0, 0, 0], dtype=torch.uint8),\n",
       " tensor([0, 1, 1,  ..., 0, 0, 0], dtype=torch.uint8),\n",
       " tensor([0, 1, 1,  ..., 0, 0, 0], dtype=torch.uint8),\n",
       " tensor([0, 1, 1,  ..., 0, 0, 0], dtype=torch.uint8),\n",
       " tensor([0, 1, 1,  ..., 0, 0, 0], dtype=torch.uint8),\n",
       " tensor([0, 1, 1,  ..., 0, 0, 0], dtype=torch.uint8),\n",
       " tensor([0, 1, 1,  ..., 0, 0, 0], dtype=torch.uint8),\n",
       " tensor([0, 1, 1,  ..., 0, 0, 0], dtype=torch.uint8),\n",
       " tensor([0, 1, 1,  ..., 0, 0, 0], dtype=torch.uint8),\n",
       " tensor([0, 1, 1,  ..., 0, 0, 0], dtype=torch.uint8),\n",
       " tensor([0, 1, 1,  ..., 0, 0, 0], dtype=torch.uint8),\n",
       " tensor([0, 1, 1,  ..., 0, 0, 0], dtype=torch.uint8),\n",
       " tensor([0, 1, 1,  ..., 0, 0, 0], dtype=torch.uint8),\n",
       " tensor([0, 1, 1,  ..., 0, 0, 0], dtype=torch.uint8),\n",
       " tensor([0, 1, 1,  ..., 0, 0, 0], dtype=torch.uint8),\n",
       " tensor([0, 1, 1,  ..., 0, 0, 0], dtype=torch.uint8),\n",
       " tensor([0, 1, 1,  ..., 0, 0, 0], dtype=torch.uint8),\n",
       " tensor([0, 1, 1,  ..., 0, 0, 0], dtype=torch.uint8),\n",
       " tensor([0, 1, 1,  ..., 0, 0, 0], dtype=torch.uint8),\n",
       " tensor([0, 1, 1,  ..., 0, 0, 0], dtype=torch.uint8),\n",
       " tensor([0, 1, 1,  ..., 0, 0, 0], dtype=torch.uint8),\n",
       " tensor([0, 1, 1,  ..., 0, 0, 0], dtype=torch.uint8),\n",
       " tensor([0, 1, 1,  ..., 0, 0, 0], dtype=torch.uint8),\n",
       " tensor([0, 1, 1,  ..., 0, 0, 0], dtype=torch.uint8),\n",
       " tensor([0, 1, 1,  ..., 0, 0, 0], dtype=torch.uint8),\n",
       " tensor([0, 1, 1,  ..., 0, 0, 0], dtype=torch.uint8),\n",
       " tensor([0, 1, 1,  ..., 0, 0, 0], dtype=torch.uint8),\n",
       " tensor([0, 1, 1,  ..., 0, 0, 0], dtype=torch.uint8),\n",
       " tensor([0, 1, 1,  ..., 0, 0, 0], dtype=torch.uint8),\n",
       " tensor([0, 1, 1,  ..., 0, 0, 0], dtype=torch.uint8),\n",
       " tensor([0, 1, 1,  ..., 0, 0, 0], dtype=torch.uint8),\n",
       " tensor([0, 1, 1,  ..., 0, 0, 0], dtype=torch.uint8),\n",
       " tensor([0, 1, 1,  ..., 0, 0, 0], dtype=torch.uint8),\n",
       " tensor([0, 1, 1,  ..., 0, 0, 0], dtype=torch.uint8),\n",
       " tensor([0, 1, 1,  ..., 0, 0, 0], dtype=torch.uint8),\n",
       " tensor([0, 1, 1,  ..., 0, 0, 0], dtype=torch.uint8),\n",
       " tensor([0, 1, 1,  ..., 0, 0, 0], dtype=torch.uint8),\n",
       " tensor([0, 1, 1,  ..., 0, 0, 0], dtype=torch.uint8),\n",
       " tensor([0, 1, 1,  ..., 0, 0, 0], dtype=torch.uint8),\n",
       " tensor([0, 1, 1,  ..., 0, 0, 0], dtype=torch.uint8),\n",
       " tensor([0, 1, 1,  ..., 0, 0, 0], dtype=torch.uint8),\n",
       " tensor([0, 1, 1,  ..., 0, 0, 0], dtype=torch.uint8),\n",
       " tensor([0, 1, 1,  ..., 0, 0, 0], dtype=torch.uint8),\n",
       " tensor([0, 1, 1,  ..., 0, 0, 0], dtype=torch.uint8),\n",
       " tensor([0, 1, 1,  ..., 0, 0, 0], dtype=torch.uint8),\n",
       " tensor([0, 1, 1,  ..., 0, 0, 0], dtype=torch.uint8),\n",
       " tensor([0, 1, 1,  ..., 0, 0, 0], dtype=torch.uint8),\n",
       " tensor([0, 1, 1,  ..., 0, 0, 0], dtype=torch.uint8),\n",
       " tensor([0, 1, 1,  ..., 0, 0, 0], dtype=torch.uint8),\n",
       " tensor([0, 1, 1,  ..., 0, 0, 0], dtype=torch.uint8),\n",
       " tensor([0, 1, 1,  ..., 0, 0, 0], dtype=torch.uint8),\n",
       " tensor([0, 1, 1,  ..., 0, 0, 0], dtype=torch.uint8),\n",
       " tensor([0, 1, 1,  ..., 0, 0, 0], dtype=torch.uint8),\n",
       " tensor([0, 1, 1,  ..., 0, 0, 0], dtype=torch.uint8),\n",
       " tensor([0, 1, 1,  ..., 0, 0, 0], dtype=torch.uint8),\n",
       " tensor([0, 1, 1,  ..., 0, 0, 0], dtype=torch.uint8),\n",
       " tensor([0, 1, 1,  ..., 0, 0, 0], dtype=torch.uint8),\n",
       " tensor([0, 1, 1,  ..., 0, 0, 0], dtype=torch.uint8),\n",
       " tensor([0, 1, 1,  ..., 0, 0, 0], dtype=torch.uint8),\n",
       " tensor([0, 1, 1,  ..., 0, 0, 0], dtype=torch.uint8),\n",
       " tensor([0, 1, 1,  ..., 0, 0, 0], dtype=torch.uint8),\n",
       " tensor([0, 1, 1,  ..., 0, 0, 0], dtype=torch.uint8),\n",
       " tensor([0, 1, 1,  ..., 0, 0, 0], dtype=torch.uint8),\n",
       " tensor([0, 1, 1,  ..., 0, 0, 0], dtype=torch.uint8),\n",
       " tensor([0, 1, 1,  ..., 0, 0, 0], dtype=torch.uint8),\n",
       " tensor([0, 1, 1,  ..., 0, 0, 0], dtype=torch.uint8),\n",
       " tensor([0, 1, 1,  ..., 0, 0, 0], dtype=torch.uint8),\n",
       " tensor([0, 1, 1,  ..., 0, 0, 0], dtype=torch.uint8),\n",
       " tensor([0, 1, 1,  ..., 0, 0, 0], dtype=torch.uint8),\n",
       " tensor([0, 1, 1,  ..., 0, 0, 0], dtype=torch.uint8),\n",
       " tensor([0, 1, 1,  ..., 0, 0, 0], dtype=torch.uint8),\n",
       " tensor([0, 1, 1,  ..., 0, 0, 0], dtype=torch.uint8),\n",
       " tensor([0, 1, 1,  ..., 0, 0, 0], dtype=torch.uint8),\n",
       " tensor([0, 1, 1,  ..., 0, 0, 0], dtype=torch.uint8),\n",
       " tensor([0, 1, 1,  ..., 0, 0, 0], dtype=torch.uint8),\n",
       " tensor([0, 1, 1,  ..., 0, 0, 0], dtype=torch.uint8),\n",
       " tensor([0, 1, 1,  ..., 0, 0, 0], dtype=torch.uint8),\n",
       " tensor([0, 1, 1,  ..., 0, 0, 0], dtype=torch.uint8),\n",
       " tensor([0, 1, 1,  ..., 0, 0, 0], dtype=torch.uint8),\n",
       " tensor([0, 1, 1,  ..., 0, 0, 0], dtype=torch.uint8),\n",
       " tensor([0, 1, 1,  ..., 0, 0, 0], dtype=torch.uint8),\n",
       " tensor([0, 1, 1,  ..., 0, 0, 0], dtype=torch.uint8),\n",
       " tensor([0, 1, 1,  ..., 0, 0, 0], dtype=torch.uint8),\n",
       " tensor([0, 1, 1,  ..., 0, 0, 0], dtype=torch.uint8),\n",
       " tensor([0, 1, 1,  ..., 0, 0, 0], dtype=torch.uint8),\n",
       " tensor([0, 1, 1,  ..., 0, 0, 0], dtype=torch.uint8),\n",
       " tensor([0, 1, 1,  ..., 0, 0, 0], dtype=torch.uint8),\n",
       " tensor([0, 1, 1,  ..., 0, 0, 0], dtype=torch.uint8),\n",
       " tensor([0, 1, 1,  ..., 0, 0, 0], dtype=torch.uint8),\n",
       " tensor([0, 1, 1,  ..., 0, 0, 0], dtype=torch.uint8),\n",
       " tensor([0, 1, 1,  ..., 0, 0, 0], dtype=torch.uint8),\n",
       " tensor([0, 1, 1,  ..., 0, 0, 0], dtype=torch.uint8),\n",
       " tensor([0, 1, 1,  ..., 0, 0, 0], dtype=torch.uint8),\n",
       " tensor([0, 1, 1,  ..., 0, 0, 0], dtype=torch.uint8),\n",
       " tensor([0, 1, 1,  ..., 0, 0, 0], dtype=torch.uint8),\n",
       " tensor([0, 1, 1,  ..., 0, 0, 0], dtype=torch.uint8),\n",
       " tensor([0, 1, 1,  ..., 0, 0, 0], dtype=torch.uint8),\n",
       " tensor([0, 1, 1,  ..., 0, 0, 0], dtype=torch.uint8),\n",
       " tensor([0, 1, 1,  ..., 0, 0, 0], dtype=torch.uint8),\n",
       " tensor([0, 1, 1,  ..., 0, 0, 0], dtype=torch.uint8),\n",
       " tensor([0, 1, 1,  ..., 0, 0, 0], dtype=torch.uint8),\n",
       " tensor([0, 1, 1,  ..., 0, 0, 0], dtype=torch.uint8),\n",
       " tensor([0, 1, 1,  ..., 0, 0, 0], dtype=torch.uint8),\n",
       " tensor([0, 1, 1,  ..., 0, 0, 0], dtype=torch.uint8),\n",
       " tensor([0, 1, 1,  ..., 0, 0, 0], dtype=torch.uint8),\n",
       " tensor([0, 1, 1,  ..., 0, 0, 0], dtype=torch.uint8),\n",
       " tensor([0, 1, 1,  ..., 0, 0, 0], dtype=torch.uint8),\n",
       " tensor([0, 1, 1,  ..., 0, 0, 0], dtype=torch.uint8),\n",
       " tensor([0, 1, 1,  ..., 0, 0, 0], dtype=torch.uint8),\n",
       " tensor([0, 1, 1,  ..., 0, 0, 0], dtype=torch.uint8),\n",
       " tensor([0, 1, 1,  ..., 0, 0, 0], dtype=torch.uint8),\n",
       " tensor([0, 1, 1,  ..., 0, 0, 0], dtype=torch.uint8),\n",
       " tensor([0, 1, 1,  ..., 0, 0, 0], dtype=torch.uint8),\n",
       " tensor([0, 1, 1,  ..., 0, 0, 0], dtype=torch.uint8),\n",
       " tensor([0, 1, 1,  ..., 0, 0, 0], dtype=torch.uint8),\n",
       " tensor([0, 1, 1,  ..., 0, 0, 0], dtype=torch.uint8),\n",
       " tensor([0, 1, 1,  ..., 0, 0, 0], dtype=torch.uint8),\n",
       " tensor([0, 1, 1,  ..., 0, 0, 0], dtype=torch.uint8),\n",
       " tensor([0, 1, 1,  ..., 0, 0, 0], dtype=torch.uint8),\n",
       " tensor([0, 1, 1,  ..., 0, 0, 0], dtype=torch.uint8),\n",
       " tensor([0, 1, 1,  ..., 0, 0, 0], dtype=torch.uint8),\n",
       " tensor([0, 1, 1,  ..., 0, 0, 0], dtype=torch.uint8),\n",
       " tensor([0, 1, 1,  ..., 0, 0, 0], dtype=torch.uint8),\n",
       " tensor([0, 1, 1,  ..., 0, 0, 0], dtype=torch.uint8),\n",
       " tensor([0, 1, 1,  ..., 0, 0, 0], dtype=torch.uint8),\n",
       " tensor([0, 1, 1,  ..., 0, 0, 0], dtype=torch.uint8),\n",
       " tensor([0, 1, 1,  ..., 0, 0, 0], dtype=torch.uint8),\n",
       " tensor([0, 1, 1,  ..., 0, 0, 0], dtype=torch.uint8),\n",
       " tensor([0, 1, 1,  ..., 0, 0, 0], dtype=torch.uint8),\n",
       " tensor([0, 1, 1,  ..., 0, 0, 0], dtype=torch.uint8),\n",
       " tensor([0, 1, 1,  ..., 0, 0, 0], dtype=torch.uint8),\n",
       " tensor([0, 1, 1,  ..., 0, 0, 0], dtype=torch.uint8),\n",
       " tensor([0, 1, 1,  ..., 0, 0, 0], dtype=torch.uint8),\n",
       " tensor([0, 1, 1,  ..., 0, 0, 0], dtype=torch.uint8),\n",
       " tensor([0, 1, 1,  ..., 0, 0, 0], dtype=torch.uint8),\n",
       " tensor([0, 1, 1,  ..., 0, 0, 0], dtype=torch.uint8),\n",
       " tensor([0, 1, 1,  ..., 0, 0, 0], dtype=torch.uint8),\n",
       " tensor([0, 1, 1,  ..., 0, 0, 0], dtype=torch.uint8),\n",
       " tensor([0, 1, 1,  ..., 0, 0, 0], dtype=torch.uint8),\n",
       " tensor([0, 1, 1,  ..., 0, 0, 0], dtype=torch.uint8),\n",
       " tensor([0, 1, 1,  ..., 0, 0, 0], dtype=torch.uint8),\n",
       " tensor([0, 1, 1,  ..., 0, 0, 0], dtype=torch.uint8),\n",
       " tensor([0, 1, 1,  ..., 0, 0, 0], dtype=torch.uint8),\n",
       " tensor([0, 1, 1,  ..., 0, 0, 0], dtype=torch.uint8),\n",
       " tensor([0, 1, 1,  ..., 0, 0, 0], dtype=torch.uint8),\n",
       " tensor([0, 1, 1,  ..., 0, 0, 0], dtype=torch.uint8),\n",
       " tensor([0, 1, 1,  ..., 0, 0, 0], dtype=torch.uint8),\n",
       " tensor([0, 1, 1,  ..., 0, 0, 0], dtype=torch.uint8),\n",
       " tensor([0, 1, 1,  ..., 0, 0, 0], dtype=torch.uint8),\n",
       " tensor([0, 1, 1,  ..., 0, 0, 0], dtype=torch.uint8),\n",
       " tensor([0, 1, 1,  ..., 0, 0, 0], dtype=torch.uint8),\n",
       " tensor([0, 1, 1,  ..., 0, 0, 0], dtype=torch.uint8),\n",
       " tensor([0, 1, 1,  ..., 0, 0, 0], dtype=torch.uint8),\n",
       " tensor([0, 1, 1,  ..., 0, 0, 0], dtype=torch.uint8),\n",
       " tensor([0, 1, 1,  ..., 0, 0, 0], dtype=torch.uint8),\n",
       " tensor([0, 1, 1,  ..., 0, 0, 0], dtype=torch.uint8),\n",
       " tensor([0, 1, 1,  ..., 0, 0, 0], dtype=torch.uint8),\n",
       " tensor([0, 1, 1,  ..., 0, 0, 0], dtype=torch.uint8),\n",
       " tensor([0, 1, 1,  ..., 0, 0, 0], dtype=torch.uint8),\n",
       " tensor([0, 1, 1,  ..., 0, 0, 0], dtype=torch.uint8),\n",
       " tensor([0, 1, 1,  ..., 0, 0, 0], dtype=torch.uint8),\n",
       " tensor([0, 1, 1,  ..., 0, 0, 0], dtype=torch.uint8),\n",
       " tensor([0, 1, 1,  ..., 0, 0, 0], dtype=torch.uint8),\n",
       " tensor([0, 1, 1,  ..., 0, 0, 0], dtype=torch.uint8),\n",
       " tensor([0, 1, 1,  ..., 0, 0, 0], dtype=torch.uint8),\n",
       " tensor([0, 1, 1,  ..., 0, 0, 0], dtype=torch.uint8),\n",
       " tensor([0, 1, 1,  ..., 0, 0, 0], dtype=torch.uint8),\n",
       " tensor([0, 1, 1,  ..., 0, 0, 0], dtype=torch.uint8),\n",
       " tensor([0, 1, 1,  ..., 0, 0, 0], dtype=torch.uint8),\n",
       " tensor([0, 1, 1,  ..., 0, 0, 0], dtype=torch.uint8),\n",
       " tensor([0, 1, 1,  ..., 0, 0, 0], dtype=torch.uint8),\n",
       " tensor([0, 1, 1,  ..., 0, 0, 0], dtype=torch.uint8),\n",
       " tensor([0, 1, 1,  ..., 0, 0, 0], dtype=torch.uint8),\n",
       " tensor([0, 1, 1,  ..., 0, 0, 0], dtype=torch.uint8),\n",
       " tensor([0, 1, 1,  ..., 0, 0, 0], dtype=torch.uint8),\n",
       " tensor([0, 1, 1,  ..., 0, 0, 0], dtype=torch.uint8),\n",
       " tensor([0, 1, 1,  ..., 0, 0, 0], dtype=torch.uint8),\n",
       " tensor([0, 1, 1,  ..., 0, 0, 0], dtype=torch.uint8),\n",
       " tensor([0, 1, 1,  ..., 0, 0, 0], dtype=torch.uint8),\n",
       " tensor([0, 1, 1,  ..., 0, 0, 0], dtype=torch.uint8),\n",
       " tensor([0, 1, 1,  ..., 0, 0, 0], dtype=torch.uint8),\n",
       " tensor([0, 1, 1,  ..., 0, 0, 0], dtype=torch.uint8),\n",
       " tensor([0, 1, 1,  ..., 0, 0, 0], dtype=torch.uint8),\n",
       " tensor([0, 1, 1,  ..., 0, 0, 0], dtype=torch.uint8),\n",
       " tensor([0, 1, 1,  ..., 0, 0, 0], dtype=torch.uint8),\n",
       " tensor([0, 1, 1,  ..., 0, 0, 0], dtype=torch.uint8),\n",
       " tensor([0, 1, 1,  ..., 0, 0, 0], dtype=torch.uint8),\n",
       " tensor([0, 1, 1,  ..., 0, 0, 0], dtype=torch.uint8),\n",
       " tensor([0, 1, 1,  ..., 0, 0, 0], dtype=torch.uint8),\n",
       " tensor([0, 1, 1,  ..., 0, 0, 0], dtype=torch.uint8),\n",
       " tensor([0, 1, 1,  ..., 0, 0, 0], dtype=torch.uint8),\n",
       " tensor([0, 1, 1,  ..., 0, 0, 0], dtype=torch.uint8),\n",
       " tensor([0, 1, 1,  ..., 0, 0, 0], dtype=torch.uint8),\n",
       " tensor([0, 1, 1,  ..., 0, 0, 0], dtype=torch.uint8),\n",
       " tensor([0, 1, 1,  ..., 0, 0, 0], dtype=torch.uint8),\n",
       " tensor([0, 1, 1,  ..., 0, 0, 0], dtype=torch.uint8),\n",
       " tensor([0, 1, 1,  ..., 0, 0, 0], dtype=torch.uint8),\n",
       " tensor([0, 1, 1,  ..., 0, 0, 0], dtype=torch.uint8),\n",
       " tensor([0, 1, 1,  ..., 0, 0, 0], dtype=torch.uint8),\n",
       " tensor([0, 1, 1,  ..., 0, 0, 0], dtype=torch.uint8),\n",
       " tensor([0, 1, 1,  ..., 0, 0, 0], dtype=torch.uint8),\n",
       " tensor([0, 1, 1,  ..., 0, 0, 0], dtype=torch.uint8),\n",
       " tensor([0, 1, 1,  ..., 0, 0, 0], dtype=torch.uint8),\n",
       " tensor([0, 1, 1,  ..., 0, 0, 0], dtype=torch.uint8),\n",
       " tensor([0, 1, 1,  ..., 0, 0, 0], dtype=torch.uint8),\n",
       " tensor([0, 1, 1,  ..., 0, 0, 0], dtype=torch.uint8),\n",
       " tensor([0, 1, 1,  ..., 0, 0, 0], dtype=torch.uint8),\n",
       " tensor([0, 1, 1,  ..., 0, 0, 0], dtype=torch.uint8),\n",
       " tensor([0, 1, 1,  ..., 0, 0, 0], dtype=torch.uint8),\n",
       " tensor([0, 1, 1,  ..., 0, 0, 0], dtype=torch.uint8),\n",
       " tensor([0, 1, 1,  ..., 0, 0, 0], dtype=torch.uint8),\n",
       " tensor([0, 1, 1,  ..., 0, 0, 0], dtype=torch.uint8),\n",
       " tensor([0, 1, 1,  ..., 0, 0, 0], dtype=torch.uint8),\n",
       " tensor([0, 1, 1,  ..., 0, 0, 0], dtype=torch.uint8),\n",
       " tensor([0, 1, 1,  ..., 0, 0, 0], dtype=torch.uint8),\n",
       " tensor([0, 1, 1,  ..., 0, 0, 0], dtype=torch.uint8),\n",
       " tensor([0, 1, 1,  ..., 0, 0, 0], dtype=torch.uint8),\n",
       " tensor([0, 1, 1,  ..., 0, 0, 0], dtype=torch.uint8),\n",
       " tensor([0, 1, 1,  ..., 0, 0, 0], dtype=torch.uint8),\n",
       " tensor([0, 1, 1,  ..., 0, 0, 0], dtype=torch.uint8),\n",
       " tensor([0, 1, 1,  ..., 0, 0, 0], dtype=torch.uint8),\n",
       " tensor([0, 1, 1,  ..., 0, 0, 0], dtype=torch.uint8),\n",
       " tensor([0, 1, 1,  ..., 0, 0, 0], dtype=torch.uint8),\n",
       " tensor([0, 1, 1,  ..., 0, 0, 0], dtype=torch.uint8),\n",
       " tensor([0, 1, 1,  ..., 0, 0, 0], dtype=torch.uint8),\n",
       " tensor([0, 1, 1,  ..., 0, 0, 0], dtype=torch.uint8),\n",
       " tensor([0, 1, 1,  ..., 0, 0, 0], dtype=torch.uint8),\n",
       " tensor([0, 1, 1,  ..., 0, 0, 0], dtype=torch.uint8),\n",
       " tensor([0, 1, 1,  ..., 0, 0, 0], dtype=torch.uint8),\n",
       " tensor([0, 1, 1,  ..., 0, 0, 0], dtype=torch.uint8),\n",
       " tensor([0, 1, 1,  ..., 0, 0, 0], dtype=torch.uint8),\n",
       " tensor([0, 1, 1,  ..., 0, 0, 0], dtype=torch.uint8),\n",
       " tensor([0, 1, 1,  ..., 0, 0, 0], dtype=torch.uint8),\n",
       " tensor([0, 1, 1,  ..., 0, 0, 0], dtype=torch.uint8),\n",
       " tensor([0, 1, 1,  ..., 0, 0, 0], dtype=torch.uint8),\n",
       " tensor([0, 1, 1,  ..., 0, 0, 0], dtype=torch.uint8),\n",
       " tensor([0, 1, 1,  ..., 0, 0, 0], dtype=torch.uint8),\n",
       " tensor([0, 1, 1,  ..., 0, 0, 0], dtype=torch.uint8),\n",
       " tensor([0, 1, 1,  ..., 0, 0, 0], dtype=torch.uint8),\n",
       " tensor([0, 1, 1,  ..., 0, 0, 0], dtype=torch.uint8),\n",
       " tensor([0, 1, 1,  ..., 0, 0, 0], dtype=torch.uint8),\n",
       " tensor([0, 1, 1,  ..., 0, 0, 0], dtype=torch.uint8),\n",
       " tensor([0, 1, 1,  ..., 0, 0, 0], dtype=torch.uint8),\n",
       " tensor([0, 1, 1,  ..., 0, 0, 0], dtype=torch.uint8),\n",
       " tensor([0, 1, 1,  ..., 0, 0, 0], dtype=torch.uint8),\n",
       " tensor([0, 1, 1,  ..., 0, 0, 0], dtype=torch.uint8),\n",
       " tensor([0, 1, 1,  ..., 0, 0, 0], dtype=torch.uint8),\n",
       " tensor([0, 1, 1,  ..., 0, 0, 0], dtype=torch.uint8),\n",
       " tensor([0, 1, 1,  ..., 0, 0, 0], dtype=torch.uint8),\n",
       " tensor([0, 1, 1,  ..., 0, 0, 0], dtype=torch.uint8),\n",
       " tensor([0, 1, 1,  ..., 0, 0, 0], dtype=torch.uint8),\n",
       " tensor([0, 1, 1,  ..., 0, 0, 0], dtype=torch.uint8),\n",
       " tensor([0, 1, 1,  ..., 0, 0, 0], dtype=torch.uint8),\n",
       " tensor([0, 1, 1,  ..., 0, 0, 0], dtype=torch.uint8),\n",
       " tensor([0, 1, 1,  ..., 0, 0, 0], dtype=torch.uint8),\n",
       " tensor([0, 1, 1,  ..., 0, 0, 0], dtype=torch.uint8),\n",
       " tensor([0, 1, 1,  ..., 0, 0, 0], dtype=torch.uint8),\n",
       " tensor([0, 1, 1,  ..., 0, 0, 0], dtype=torch.uint8),\n",
       " tensor([0, 1, 1,  ..., 0, 0, 0], dtype=torch.uint8),\n",
       " tensor([0, 1, 1,  ..., 0, 0, 0], dtype=torch.uint8),\n",
       " tensor([0, 1, 1,  ..., 0, 0, 0], dtype=torch.uint8),\n",
       " tensor([0, 1, 1,  ..., 0, 0, 0], dtype=torch.uint8),\n",
       " tensor([0, 1, 1,  ..., 0, 0, 0], dtype=torch.uint8),\n",
       " tensor([0, 1, 1,  ..., 0, 0, 0], dtype=torch.uint8),\n",
       " tensor([0, 1, 1,  ..., 0, 0, 0], dtype=torch.uint8),\n",
       " tensor([0, 1, 1,  ..., 0, 0, 0], dtype=torch.uint8),\n",
       " tensor([0, 1, 1,  ..., 0, 0, 0], dtype=torch.uint8),\n",
       " tensor([0, 1, 1,  ..., 0, 0, 0], dtype=torch.uint8),\n",
       " tensor([0, 1, 1,  ..., 0, 0, 0], dtype=torch.uint8),\n",
       " tensor([0, 1, 1,  ..., 0, 0, 0], dtype=torch.uint8),\n",
       " tensor([0, 1, 1,  ..., 0, 0, 0], dtype=torch.uint8),\n",
       " tensor([0, 1, 1,  ..., 0, 0, 0], dtype=torch.uint8),\n",
       " tensor([0, 1, 1,  ..., 0, 0, 0], dtype=torch.uint8),\n",
       " tensor([0, 1, 1,  ..., 0, 0, 0], dtype=torch.uint8),\n",
       " tensor([0, 1, 1,  ..., 0, 0, 0], dtype=torch.uint8),\n",
       " tensor([0, 1, 1,  ..., 0, 0, 0], dtype=torch.uint8),\n",
       " tensor([0, 1, 1,  ..., 0, 0, 0], dtype=torch.uint8),\n",
       " tensor([0, 1, 1,  ..., 0, 0, 0], dtype=torch.uint8),\n",
       " tensor([0, 1, 1,  ..., 0, 0, 0], dtype=torch.uint8),\n",
       " tensor([0, 1, 1,  ..., 0, 0, 0], dtype=torch.uint8),\n",
       " tensor([0, 1, 1,  ..., 0, 0, 0], dtype=torch.uint8),\n",
       " tensor([0, 1, 1,  ..., 0, 0, 0], dtype=torch.uint8),\n",
       " tensor([0, 1, 1,  ..., 0, 0, 0], dtype=torch.uint8),\n",
       " tensor([0, 1, 1,  ..., 0, 0, 0], dtype=torch.uint8),\n",
       " tensor([0, 1, 1,  ..., 0, 0, 0], dtype=torch.uint8),\n",
       " tensor([0, 1, 1,  ..., 0, 0, 0], dtype=torch.uint8),\n",
       " tensor([0, 1, 1,  ..., 0, 0, 0], dtype=torch.uint8),\n",
       " tensor([0, 1, 1,  ..., 0, 0, 0], dtype=torch.uint8),\n",
       " tensor([0, 1, 1,  ..., 0, 0, 0], dtype=torch.uint8),\n",
       " tensor([0, 1, 1,  ..., 0, 0, 0], dtype=torch.uint8),\n",
       " tensor([0, 1, 1,  ..., 0, 0, 0], dtype=torch.uint8),\n",
       " tensor([0, 1, 1,  ..., 0, 0, 0], dtype=torch.uint8),\n",
       " tensor([0, 1, 1,  ..., 0, 0, 0], dtype=torch.uint8),\n",
       " tensor([0, 1, 1,  ..., 0, 0, 0], dtype=torch.uint8),\n",
       " tensor([0, 1, 1,  ..., 0, 0, 0], dtype=torch.uint8),\n",
       " tensor([0, 1, 1,  ..., 0, 0, 0], dtype=torch.uint8),\n",
       " tensor([0, 1, 1,  ..., 0, 0, 0], dtype=torch.uint8),\n",
       " tensor([0, 1, 1,  ..., 0, 0, 0], dtype=torch.uint8),\n",
       " tensor([0, 1, 1,  ..., 0, 0, 0], dtype=torch.uint8),\n",
       " tensor([0, 1, 1,  ..., 0, 0, 0], dtype=torch.uint8),\n",
       " tensor([0, 1, 1,  ..., 0, 0, 0], dtype=torch.uint8),\n",
       " tensor([0, 1, 1,  ..., 0, 0, 0], dtype=torch.uint8),\n",
       " tensor([0, 1, 1,  ..., 0, 0, 0], dtype=torch.uint8),\n",
       " tensor([0, 1, 1,  ..., 0, 0, 0], dtype=torch.uint8),\n",
       " tensor([0, 1, 1,  ..., 0, 0, 0], dtype=torch.uint8),\n",
       " tensor([0, 1, 1,  ..., 0, 0, 0], dtype=torch.uint8),\n",
       " tensor([0, 1, 1,  ..., 0, 0, 0], dtype=torch.uint8),\n",
       " tensor([0, 1, 1,  ..., 0, 0, 0], dtype=torch.uint8),\n",
       " tensor([0, 1, 1,  ..., 0, 0, 0], dtype=torch.uint8),\n",
       " tensor([0, 1, 1,  ..., 0, 0, 0], dtype=torch.uint8),\n",
       " tensor([0, 1, 1,  ..., 0, 0, 0], dtype=torch.uint8),\n",
       " tensor([0, 1, 1,  ..., 0, 0, 0], dtype=torch.uint8),\n",
       " tensor([0, 1, 1,  ..., 0, 0, 0], dtype=torch.uint8),\n",
       " tensor([0, 1, 1,  ..., 0, 0, 0], dtype=torch.uint8),\n",
       " tensor([0, 1, 1,  ..., 0, 0, 0], dtype=torch.uint8),\n",
       " tensor([0, 1, 1,  ..., 0, 0, 0], dtype=torch.uint8),\n",
       " tensor([0, 1, 1,  ..., 0, 0, 0], dtype=torch.uint8),\n",
       " tensor([0, 1, 1,  ..., 0, 0, 0], dtype=torch.uint8),\n",
       " tensor([0, 1, 1,  ..., 0, 0, 0], dtype=torch.uint8),\n",
       " tensor([0, 1, 1,  ..., 0, 0, 0], dtype=torch.uint8),\n",
       " tensor([0, 1, 1,  ..., 0, 0, 0], dtype=torch.uint8),\n",
       " tensor([0, 1, 1,  ..., 0, 0, 0], dtype=torch.uint8),\n",
       " tensor([0, 1, 1,  ..., 0, 0, 0], dtype=torch.uint8),\n",
       " tensor([0, 1, 1,  ..., 0, 0, 0], dtype=torch.uint8),\n",
       " tensor([0, 1, 1,  ..., 0, 0, 0], dtype=torch.uint8),\n",
       " tensor([0, 1, 1,  ..., 0, 0, 0], dtype=torch.uint8),\n",
       " tensor([0, 1, 1,  ..., 0, 0, 0], dtype=torch.uint8),\n",
       " tensor([0, 1, 1,  ..., 0, 0, 0], dtype=torch.uint8),\n",
       " tensor([0, 1, 1,  ..., 0, 0, 0], dtype=torch.uint8),\n",
       " tensor([0, 1, 1,  ..., 0, 0, 0], dtype=torch.uint8),\n",
       " tensor([0, 1, 1,  ..., 0, 0, 0], dtype=torch.uint8),\n",
       " tensor([0, 1, 1,  ..., 0, 0, 0], dtype=torch.uint8),\n",
       " tensor([0, 1, 1,  ..., 0, 0, 0], dtype=torch.uint8),\n",
       " tensor([0, 1, 1,  ..., 0, 0, 0], dtype=torch.uint8),\n",
       " tensor([0, 1, 1,  ..., 0, 0, 0], dtype=torch.uint8),\n",
       " tensor([0, 1, 1,  ..., 0, 0, 0], dtype=torch.uint8),\n",
       " tensor([0, 1, 1,  ..., 0, 0, 0], dtype=torch.uint8),\n",
       " tensor([0, 1, 1,  ..., 0, 0, 0], dtype=torch.uint8),\n",
       " tensor([0, 1, 1,  ..., 0, 0, 0], dtype=torch.uint8),\n",
       " tensor([0, 1, 1,  ..., 0, 0, 0], dtype=torch.uint8),\n",
       " tensor([0, 1, 1,  ..., 0, 0, 0], dtype=torch.uint8),\n",
       " tensor([0, 1, 1,  ..., 0, 0, 0], dtype=torch.uint8),\n",
       " tensor([0, 1, 1,  ..., 0, 0, 0], dtype=torch.uint8),\n",
       " tensor([0, 1, 1,  ..., 0, 0, 0], dtype=torch.uint8),\n",
       " tensor([0, 1, 1,  ..., 0, 0, 0], dtype=torch.uint8),\n",
       " tensor([0, 1, 1,  ..., 0, 0, 0], dtype=torch.uint8),\n",
       " tensor([0, 1, 1,  ..., 0, 0, 0], dtype=torch.uint8),\n",
       " tensor([0, 1, 1,  ..., 0, 0, 0], dtype=torch.uint8),\n",
       " tensor([0, 1, 1,  ..., 0, 0, 0], dtype=torch.uint8),\n",
       " tensor([0, 1, 1,  ..., 0, 0, 0], dtype=torch.uint8),\n",
       " tensor([0, 1, 1,  ..., 0, 0, 0], dtype=torch.uint8),\n",
       " tensor([0, 1, 1,  ..., 0, 0, 0], dtype=torch.uint8),\n",
       " tensor([0, 1, 1,  ..., 0, 0, 0], dtype=torch.uint8),\n",
       " tensor([0, 1, 1,  ..., 0, 0, 0], dtype=torch.uint8),\n",
       " tensor([0, 1, 1,  ..., 0, 0, 0], dtype=torch.uint8),\n",
       " tensor([0, 1, 1,  ..., 0, 0, 0], dtype=torch.uint8),\n",
       " tensor([0, 1, 1,  ..., 0, 0, 0], dtype=torch.uint8),\n",
       " tensor([0, 1, 1,  ..., 0, 0, 0], dtype=torch.uint8),\n",
       " tensor([0, 1, 1,  ..., 0, 0, 0], dtype=torch.uint8),\n",
       " tensor([0, 1, 1,  ..., 0, 0, 0], dtype=torch.uint8),\n",
       " tensor([0, 1, 1,  ..., 0, 0, 0], dtype=torch.uint8),\n",
       " tensor([0, 1, 1,  ..., 0, 0, 0], dtype=torch.uint8),\n",
       " tensor([0, 1, 1,  ..., 0, 0, 0], dtype=torch.uint8),\n",
       " tensor([0, 1, 1,  ..., 0, 0, 0], dtype=torch.uint8),\n",
       " tensor([0, 1, 1,  ..., 0, 0, 0], dtype=torch.uint8),\n",
       " tensor([0, 1, 1,  ..., 0, 0, 0], dtype=torch.uint8),\n",
       " tensor([0, 1, 1,  ..., 0, 0, 0], dtype=torch.uint8),\n",
       " tensor([0, 1, 1,  ..., 0, 0, 0], dtype=torch.uint8),\n",
       " tensor([0, 1, 1,  ..., 0, 0, 0], dtype=torch.uint8),\n",
       " tensor([0, 1, 1,  ..., 0, 0, 0], dtype=torch.uint8),\n",
       " tensor([0, 1, 1,  ..., 0, 0, 0], dtype=torch.uint8),\n",
       " tensor([0, 1, 1,  ..., 0, 0, 0], dtype=torch.uint8),\n",
       " tensor([0, 1, 1,  ..., 0, 0, 0], dtype=torch.uint8),\n",
       " tensor([0, 1, 1,  ..., 0, 0, 0], dtype=torch.uint8),\n",
       " tensor([0, 1, 1,  ..., 0, 0, 0], dtype=torch.uint8),\n",
       " tensor([0, 1, 1,  ..., 0, 0, 0], dtype=torch.uint8),\n",
       " tensor([0, 1, 1,  ..., 0, 0, 0], dtype=torch.uint8),\n",
       " tensor([0, 1, 1,  ..., 0, 0, 0], dtype=torch.uint8),\n",
       " tensor([0, 1, 1,  ..., 0, 0, 0], dtype=torch.uint8),\n",
       " tensor([0, 1, 1,  ..., 0, 0, 0], dtype=torch.uint8),\n",
       " tensor([0, 1, 1,  ..., 0, 0, 0], dtype=torch.uint8),\n",
       " tensor([0, 1, 1,  ..., 0, 0, 0], dtype=torch.uint8),\n",
       " tensor([0, 1, 1,  ..., 0, 0, 0], dtype=torch.uint8),\n",
       " tensor([0, 1, 1,  ..., 0, 0, 0], dtype=torch.uint8),\n",
       " tensor([0, 1, 1,  ..., 0, 0, 0], dtype=torch.uint8),\n",
       " tensor([0, 1, 1,  ..., 0, 0, 0], dtype=torch.uint8),\n",
       " tensor([0, 1, 1,  ..., 0, 0, 0], dtype=torch.uint8),\n",
       " tensor([0, 1, 1,  ..., 0, 0, 0], dtype=torch.uint8),\n",
       " tensor([0, 1, 1,  ..., 0, 0, 0], dtype=torch.uint8),\n",
       " tensor([0, 1, 1,  ..., 0, 0, 0], dtype=torch.uint8),\n",
       " tensor([0, 1, 1,  ..., 0, 0, 0], dtype=torch.uint8),\n",
       " tensor([0, 1, 1,  ..., 0, 0, 0], dtype=torch.uint8),\n",
       " tensor([0, 1, 1,  ..., 0, 0, 0], dtype=torch.uint8),\n",
       " tensor([0, 1, 1,  ..., 0, 0, 0], dtype=torch.uint8),\n",
       " tensor([0, 1, 1,  ..., 0, 0, 0], dtype=torch.uint8),\n",
       " tensor([0, 1, 1,  ..., 0, 0, 0], dtype=torch.uint8),\n",
       " tensor([0, 1, 1,  ..., 0, 0, 0], dtype=torch.uint8),\n",
       " tensor([0, 1, 1,  ..., 0, 0, 0], dtype=torch.uint8),\n",
       " tensor([0, 1, 1,  ..., 0, 0, 0], dtype=torch.uint8),\n",
       " tensor([0, 1, 1,  ..., 0, 0, 0], dtype=torch.uint8),\n",
       " tensor([0, 1, 1,  ..., 0, 0, 0], dtype=torch.uint8),\n",
       " tensor([0, 1, 1,  ..., 0, 0, 0], dtype=torch.uint8),\n",
       " tensor([0, 1, 1,  ..., 0, 0, 0], dtype=torch.uint8),\n",
       " tensor([0, 1, 1,  ..., 0, 0, 0], dtype=torch.uint8),\n",
       " tensor([0, 1, 1,  ..., 0, 0, 0], dtype=torch.uint8),\n",
       " tensor([0, 1, 1,  ..., 0, 0, 0], dtype=torch.uint8),\n",
       " tensor([0, 1, 1,  ..., 0, 0, 0], dtype=torch.uint8),\n",
       " tensor([0, 1, 1,  ..., 0, 0, 0], dtype=torch.uint8),\n",
       " tensor([0, 1, 1,  ..., 0, 0, 0], dtype=torch.uint8),\n",
       " tensor([0, 1, 1,  ..., 0, 0, 0], dtype=torch.uint8),\n",
       " tensor([0, 1, 1,  ..., 0, 0, 0], dtype=torch.uint8),\n",
       " tensor([0, 1, 1,  ..., 0, 0, 0], dtype=torch.uint8),\n",
       " tensor([0, 1, 1,  ..., 0, 0, 0], dtype=torch.uint8),\n",
       " tensor([0, 1, 1,  ..., 0, 0, 0], dtype=torch.uint8),\n",
       " tensor([0, 1, 1,  ..., 0, 0, 0], dtype=torch.uint8),\n",
       " tensor([0, 1, 1,  ..., 0, 0, 0], dtype=torch.uint8),\n",
       " tensor([0, 1, 1,  ..., 0, 0, 0], dtype=torch.uint8),\n",
       " tensor([0, 1, 1,  ..., 0, 0, 0], dtype=torch.uint8),\n",
       " tensor([0, 1, 1,  ..., 0, 0, 0], dtype=torch.uint8),\n",
       " tensor([0, 1, 1,  ..., 0, 0, 0], dtype=torch.uint8),\n",
       " tensor([0, 1, 1,  ..., 0, 0, 0], dtype=torch.uint8),\n",
       " tensor([0, 1, 1,  ..., 0, 0, 0], dtype=torch.uint8),\n",
       " tensor([0, 1, 1,  ..., 0, 0, 0], dtype=torch.uint8),\n",
       " tensor([0, 1, 1,  ..., 0, 0, 0], dtype=torch.uint8),\n",
       " tensor([0, 1, 1,  ..., 0, 0, 0], dtype=torch.uint8),\n",
       " tensor([0, 1, 1,  ..., 0, 0, 0], dtype=torch.uint8),\n",
       " tensor([0, 1, 1,  ..., 0, 0, 0], dtype=torch.uint8),\n",
       " tensor([0, 1, 1,  ..., 0, 0, 0], dtype=torch.uint8),\n",
       " tensor([0, 1, 1,  ..., 0, 0, 0], dtype=torch.uint8),\n",
       " tensor([0, 1, 1,  ..., 0, 0, 0], dtype=torch.uint8),\n",
       " tensor([0, 1, 1,  ..., 0, 0, 0], dtype=torch.uint8),\n",
       " tensor([0, 1, 1,  ..., 0, 0, 0], dtype=torch.uint8),\n",
       " tensor([0, 1, 1,  ..., 0, 0, 0], dtype=torch.uint8),\n",
       " tensor([0, 1, 1,  ..., 0, 0, 0], dtype=torch.uint8),\n",
       " tensor([0, 1, 1,  ..., 0, 0, 0], dtype=torch.uint8),\n",
       " tensor([0, 1, 1,  ..., 0, 0, 0], dtype=torch.uint8),\n",
       " tensor([0, 1, 1,  ..., 0, 0, 0], dtype=torch.uint8),\n",
       " tensor([0, 1, 1,  ..., 0, 0, 0], dtype=torch.uint8),\n",
       " tensor([0, 1, 1,  ..., 0, 0, 0], dtype=torch.uint8),\n",
       " tensor([0, 1, 1,  ..., 0, 0, 0], dtype=torch.uint8),\n",
       " tensor([0, 1, 1,  ..., 0, 0, 0], dtype=torch.uint8),\n",
       " tensor([0, 1, 1,  ..., 0, 0, 0], dtype=torch.uint8),\n",
       " tensor([0, 1, 1,  ..., 0, 0, 0], dtype=torch.uint8),\n",
       " tensor([0, 1, 1,  ..., 0, 0, 0], dtype=torch.uint8),\n",
       " tensor([0, 1, 1,  ..., 0, 0, 0], dtype=torch.uint8),\n",
       " tensor([0, 1, 1,  ..., 0, 0, 0], dtype=torch.uint8),\n",
       " tensor([0, 1, 1,  ..., 0, 0, 0], dtype=torch.uint8),\n",
       " tensor([0, 1, 1,  ..., 0, 0, 0], dtype=torch.uint8),\n",
       " tensor([0, 1, 1,  ..., 0, 0, 0], dtype=torch.uint8),\n",
       " tensor([0, 1, 1,  ..., 0, 0, 0], dtype=torch.uint8),\n",
       " tensor([0, 1, 1,  ..., 0, 0, 0], dtype=torch.uint8),\n",
       " tensor([0, 1, 1,  ..., 0, 0, 0], dtype=torch.uint8),\n",
       " tensor([0, 1, 1,  ..., 0, 0, 0], dtype=torch.uint8),\n",
       " tensor([0, 1, 1,  ..., 0, 0, 0], dtype=torch.uint8),\n",
       " tensor([0, 1, 1,  ..., 0, 0, 0], dtype=torch.uint8),\n",
       " tensor([0, 1, 1,  ..., 0, 0, 0], dtype=torch.uint8),\n",
       " tensor([0, 1, 1,  ..., 0, 0, 0], dtype=torch.uint8),\n",
       " tensor([0, 1, 1,  ..., 0, 0, 0], dtype=torch.uint8),\n",
       " tensor([0, 1, 1,  ..., 0, 0, 0], dtype=torch.uint8),\n",
       " tensor([0, 1, 1,  ..., 0, 0, 0], dtype=torch.uint8),\n",
       " tensor([0, 1, 1,  ..., 0, 0, 0], dtype=torch.uint8),\n",
       " tensor([0, 1, 1,  ..., 0, 0, 0], dtype=torch.uint8),\n",
       " tensor([0, 1, 1,  ..., 0, 0, 0], dtype=torch.uint8),\n",
       " tensor([0, 1, 1,  ..., 0, 0, 0], dtype=torch.uint8),\n",
       " tensor([0, 1, 1,  ..., 0, 0, 0], dtype=torch.uint8),\n",
       " tensor([0, 1, 1,  ..., 0, 0, 0], dtype=torch.uint8),\n",
       " tensor([0, 1, 1,  ..., 0, 0, 0], dtype=torch.uint8),\n",
       " tensor([0, 1, 1,  ..., 0, 0, 0], dtype=torch.uint8),\n",
       " tensor([0, 1, 1,  ..., 0, 0, 0], dtype=torch.uint8),\n",
       " tensor([0, 1, 1,  ..., 0, 0, 0], dtype=torch.uint8),\n",
       " tensor([0, 1, 1,  ..., 0, 0, 0], dtype=torch.uint8),\n",
       " tensor([0, 1, 1,  ..., 0, 0, 0], dtype=torch.uint8),\n",
       " tensor([0, 1, 1,  ..., 0, 0, 0], dtype=torch.uint8),\n",
       " tensor([0, 1, 1,  ..., 0, 0, 0], dtype=torch.uint8),\n",
       " tensor([0, 1, 1,  ..., 0, 0, 0], dtype=torch.uint8),\n",
       " tensor([0, 1, 1,  ..., 0, 0, 0], dtype=torch.uint8),\n",
       " tensor([0, 1, 1,  ..., 0, 0, 0], dtype=torch.uint8),\n",
       " tensor([0, 1, 1,  ..., 0, 0, 0], dtype=torch.uint8),\n",
       " tensor([0, 1, 1,  ..., 0, 0, 0], dtype=torch.uint8),\n",
       " tensor([0, 1, 1,  ..., 0, 0, 0], dtype=torch.uint8),\n",
       " tensor([0, 1, 1,  ..., 0, 0, 0], dtype=torch.uint8),\n",
       " tensor([0, 1, 1,  ..., 0, 0, 0], dtype=torch.uint8),\n",
       " tensor([0, 1, 1,  ..., 0, 0, 0], dtype=torch.uint8),\n",
       " tensor([0, 1, 1,  ..., 0, 0, 0], dtype=torch.uint8),\n",
       " tensor([0, 1, 1,  ..., 0, 0, 0], dtype=torch.uint8),\n",
       " tensor([0, 1, 1,  ..., 0, 0, 0], dtype=torch.uint8),\n",
       " tensor([0, 1, 1,  ..., 0, 0, 0], dtype=torch.uint8),\n",
       " tensor([0, 1, 1,  ..., 0, 0, 0], dtype=torch.uint8),\n",
       " tensor([0, 1, 1,  ..., 0, 0, 0], dtype=torch.uint8),\n",
       " tensor([0, 1, 1,  ..., 0, 0, 0], dtype=torch.uint8),\n",
       " tensor([0, 1, 1,  ..., 0, 0, 0], dtype=torch.uint8),\n",
       " tensor([0, 1, 1,  ..., 0, 0, 0], dtype=torch.uint8),\n",
       " tensor([0, 1, 1,  ..., 0, 0, 0], dtype=torch.uint8),\n",
       " tensor([0, 1, 1,  ..., 0, 0, 0], dtype=torch.uint8),\n",
       " tensor([0, 1, 1,  ..., 0, 0, 0], dtype=torch.uint8),\n",
       " tensor([0, 1, 1,  ..., 0, 0, 0], dtype=torch.uint8),\n",
       " tensor([0, 1, 1,  ..., 0, 0, 0], dtype=torch.uint8),\n",
       " tensor([0, 1, 1,  ..., 0, 0, 0], dtype=torch.uint8),\n",
       " tensor([0, 1, 1,  ..., 0, 0, 0], dtype=torch.uint8),\n",
       " tensor([0, 1, 1,  ..., 0, 0, 0], dtype=torch.uint8),\n",
       " tensor([0, 1, 1,  ..., 0, 0, 0], dtype=torch.uint8),\n",
       " tensor([0, 1, 1,  ..., 0, 0, 0], dtype=torch.uint8),\n",
       " tensor([0, 1, 1,  ..., 0, 0, 0], dtype=torch.uint8),\n",
       " tensor([0, 1, 1,  ..., 0, 0, 0], dtype=torch.uint8),\n",
       " tensor([0, 1, 1,  ..., 0, 0, 0], dtype=torch.uint8),\n",
       " tensor([0, 1, 1,  ..., 0, 0, 0], dtype=torch.uint8),\n",
       " tensor([0, 1, 1,  ..., 0, 0, 0], dtype=torch.uint8),\n",
       " tensor([0, 1, 1,  ..., 0, 0, 0], dtype=torch.uint8),\n",
       " tensor([0, 1, 1,  ..., 0, 0, 0], dtype=torch.uint8),\n",
       " tensor([0, 1, 1,  ..., 0, 0, 0], dtype=torch.uint8),\n",
       " tensor([0, 1, 1,  ..., 0, 0, 0], dtype=torch.uint8),\n",
       " tensor([0, 1, 1,  ..., 0, 0, 0], dtype=torch.uint8),\n",
       " tensor([0, 1, 1,  ..., 0, 0, 0], dtype=torch.uint8),\n",
       " tensor([0, 1, 1,  ..., 0, 0, 0], dtype=torch.uint8),\n",
       " tensor([0, 1, 1,  ..., 0, 0, 0], dtype=torch.uint8),\n",
       " tensor([0, 1, 1,  ..., 0, 0, 0], dtype=torch.uint8),\n",
       " tensor([0, 1, 1,  ..., 0, 0, 0], dtype=torch.uint8),\n",
       " tensor([0, 1, 1,  ..., 0, 0, 0], dtype=torch.uint8),\n",
       " tensor([0, 1, 1,  ..., 0, 0, 0], dtype=torch.uint8),\n",
       " tensor([0, 1, 1,  ..., 0, 0, 0], dtype=torch.uint8),\n",
       " tensor([0, 1, 1,  ..., 0, 0, 0], dtype=torch.uint8),\n",
       " tensor([0, 1, 1,  ..., 0, 0, 0], dtype=torch.uint8),\n",
       " tensor([0, 1, 1,  ..., 0, 0, 0], dtype=torch.uint8),\n",
       " tensor([0, 1, 1,  ..., 0, 0, 0], dtype=torch.uint8),\n",
       " tensor([0, 1, 1,  ..., 0, 0, 0], dtype=torch.uint8),\n",
       " tensor([0, 1, 1,  ..., 0, 0, 0], dtype=torch.uint8),\n",
       " tensor([0, 1, 1,  ..., 0, 0, 0], dtype=torch.uint8),\n",
       " tensor([0, 1, 1,  ..., 0, 0, 0], dtype=torch.uint8),\n",
       " tensor([0, 1, 1,  ..., 0, 0, 0], dtype=torch.uint8),\n",
       " tensor([0, 1, 1,  ..., 0, 0, 0], dtype=torch.uint8),\n",
       " tensor([0, 1, 1,  ..., 0, 0, 0], dtype=torch.uint8),\n",
       " tensor([0, 1, 1,  ..., 0, 0, 0], dtype=torch.uint8),\n",
       " tensor([0, 1, 1,  ..., 0, 0, 0], dtype=torch.uint8),\n",
       " tensor([0, 1, 1,  ..., 0, 0, 0], dtype=torch.uint8),\n",
       " tensor([0, 1, 1,  ..., 0, 0, 0], dtype=torch.uint8),\n",
       " tensor([0, 1, 1,  ..., 0, 0, 0], dtype=torch.uint8),\n",
       " tensor([0, 1, 1,  ..., 0, 0, 0], dtype=torch.uint8),\n",
       " tensor([0, 1, 1,  ..., 0, 0, 0], dtype=torch.uint8),\n",
       " tensor([0, 1, 1,  ..., 0, 0, 0], dtype=torch.uint8),\n",
       " tensor([0, 1, 1,  ..., 0, 0, 0], dtype=torch.uint8),\n",
       " tensor([0, 1, 1,  ..., 0, 0, 0], dtype=torch.uint8),\n",
       " tensor([0, 1, 1,  ..., 0, 0, 0], dtype=torch.uint8),\n",
       " tensor([0, 1, 1,  ..., 0, 0, 0], dtype=torch.uint8),\n",
       " tensor([0, 1, 1,  ..., 0, 0, 0], dtype=torch.uint8),\n",
       " tensor([0, 1, 1,  ..., 0, 0, 0], dtype=torch.uint8),\n",
       " tensor([0, 1, 1,  ..., 0, 0, 0], dtype=torch.uint8),\n",
       " tensor([0, 1, 1,  ..., 0, 0, 0], dtype=torch.uint8),\n",
       " tensor([0, 1, 1,  ..., 0, 0, 0], dtype=torch.uint8),\n",
       " tensor([0, 1, 1,  ..., 0, 0, 0], dtype=torch.uint8),\n",
       " tensor([0, 1, 1,  ..., 0, 0, 0], dtype=torch.uint8),\n",
       " tensor([0, 1, 1,  ..., 0, 0, 0], dtype=torch.uint8),\n",
       " tensor([0, 1, 1,  ..., 0, 0, 0], dtype=torch.uint8),\n",
       " tensor([0, 1, 1,  ..., 0, 0, 0], dtype=torch.uint8),\n",
       " tensor([0, 1, 1,  ..., 0, 0, 0], dtype=torch.uint8),\n",
       " tensor([0, 1, 1,  ..., 0, 0, 0], dtype=torch.uint8),\n",
       " tensor([0, 1, 1,  ..., 0, 0, 0], dtype=torch.uint8),\n",
       " tensor([0, 1, 1,  ..., 0, 0, 0], dtype=torch.uint8),\n",
       " tensor([0, 1, 1,  ..., 0, 0, 0], dtype=torch.uint8),\n",
       " tensor([0, 1, 1,  ..., 0, 0, 0], dtype=torch.uint8),\n",
       " tensor([0, 1, 1,  ..., 0, 0, 0], dtype=torch.uint8),\n",
       " tensor([0, 1, 1,  ..., 0, 0, 0], dtype=torch.uint8),\n",
       " tensor([0, 1, 1,  ..., 0, 0, 0], dtype=torch.uint8),\n",
       " tensor([0, 1, 1,  ..., 0, 0, 0], dtype=torch.uint8),\n",
       " tensor([0, 1, 1,  ..., 0, 0, 0], dtype=torch.uint8),\n",
       " tensor([0, 1, 1,  ..., 0, 0, 0], dtype=torch.uint8),\n",
       " tensor([0, 1, 1,  ..., 0, 0, 0], dtype=torch.uint8),\n",
       " tensor([0, 1, 1,  ..., 0, 0, 0], dtype=torch.uint8),\n",
       " tensor([0, 1, 1,  ..., 0, 0, 0], dtype=torch.uint8),\n",
       " tensor([0, 1, 1,  ..., 0, 0, 0], dtype=torch.uint8),\n",
       " tensor([0, 1, 1,  ..., 0, 0, 0], dtype=torch.uint8),\n",
       " tensor([0, 1, 1,  ..., 0, 0, 0], dtype=torch.uint8),\n",
       " tensor([0, 1, 1,  ..., 0, 0, 0], dtype=torch.uint8),\n",
       " tensor([0, 1, 1,  ..., 0, 0, 0], dtype=torch.uint8),\n",
       " tensor([0, 1, 1,  ..., 0, 0, 0], dtype=torch.uint8),\n",
       " tensor([0, 1, 1,  ..., 0, 0, 0], dtype=torch.uint8),\n",
       " tensor([0, 1, 1,  ..., 0, 0, 0], dtype=torch.uint8),\n",
       " tensor([0, 1, 1,  ..., 0, 0, 0], dtype=torch.uint8),\n",
       " tensor([0, 1, 1,  ..., 0, 0, 0], dtype=torch.uint8),\n",
       " tensor([0, 1, 1,  ..., 0, 0, 0], dtype=torch.uint8),\n",
       " tensor([0, 1, 1,  ..., 0, 0, 0], dtype=torch.uint8),\n",
       " tensor([0, 1, 1,  ..., 0, 0, 0], dtype=torch.uint8),\n",
       " tensor([0, 1, 1,  ..., 0, 0, 0], dtype=torch.uint8),\n",
       " tensor([0, 1, 1,  ..., 0, 0, 0], dtype=torch.uint8),\n",
       " tensor([0, 1, 1,  ..., 0, 0, 0], dtype=torch.uint8),\n",
       " tensor([0, 1, 1,  ..., 0, 0, 0], dtype=torch.uint8),\n",
       " tensor([0, 1, 1,  ..., 0, 0, 0], dtype=torch.uint8),\n",
       " tensor([0, 1, 1,  ..., 0, 0, 0], dtype=torch.uint8),\n",
       " tensor([0, 1, 1,  ..., 0, 0, 0], dtype=torch.uint8),\n",
       " tensor([0, 1, 1,  ..., 0, 0, 0], dtype=torch.uint8),\n",
       " tensor([0, 1, 1,  ..., 0, 0, 0], dtype=torch.uint8),\n",
       " tensor([0, 1, 1,  ..., 0, 0, 0], dtype=torch.uint8),\n",
       " tensor([0, 1, 1,  ..., 0, 0, 0], dtype=torch.uint8),\n",
       " tensor([0, 1, 1,  ..., 0, 0, 0], dtype=torch.uint8),\n",
       " tensor([0, 1, 1,  ..., 0, 0, 0], dtype=torch.uint8),\n",
       " tensor([0, 1, 1,  ..., 0, 0, 0], dtype=torch.uint8),\n",
       " tensor([0, 1, 1,  ..., 0, 0, 0], dtype=torch.uint8),\n",
       " tensor([0, 1, 1,  ..., 0, 0, 0], dtype=torch.uint8),\n",
       " tensor([0, 1, 1,  ..., 0, 0, 0], dtype=torch.uint8),\n",
       " tensor([0, 1, 1,  ..., 0, 0, 0], dtype=torch.uint8),\n",
       " tensor([0, 1, 1,  ..., 0, 0, 0], dtype=torch.uint8),\n",
       " tensor([0, 1, 1,  ..., 0, 0, 0], dtype=torch.uint8),\n",
       " tensor([0, 1, 1,  ..., 0, 0, 0], dtype=torch.uint8),\n",
       " tensor([0, 1, 1,  ..., 0, 0, 0], dtype=torch.uint8),\n",
       " tensor([0, 1, 1,  ..., 0, 0, 0], dtype=torch.uint8),\n",
       " tensor([0, 1, 1,  ..., 0, 0, 0], dtype=torch.uint8),\n",
       " tensor([0, 1, 1,  ..., 0, 0, 0], dtype=torch.uint8),\n",
       " tensor([0, 1, 1,  ..., 0, 0, 0], dtype=torch.uint8),\n",
       " tensor([0, 1, 1,  ..., 0, 0, 0], dtype=torch.uint8),\n",
       " tensor([0, 1, 1,  ..., 0, 0, 0], dtype=torch.uint8),\n",
       " tensor([0, 1, 1,  ..., 0, 0, 0], dtype=torch.uint8),\n",
       " tensor([0, 1, 1,  ..., 0, 0, 0], dtype=torch.uint8),\n",
       " tensor([0, 1, 1,  ..., 0, 0, 0], dtype=torch.uint8),\n",
       " tensor([0, 1, 1,  ..., 0, 0, 0], dtype=torch.uint8),\n",
       " tensor([0, 1, 1,  ..., 0, 0, 0], dtype=torch.uint8),\n",
       " tensor([0, 1, 1,  ..., 0, 0, 0], dtype=torch.uint8),\n",
       " tensor([0, 1, 1,  ..., 0, 0, 0], dtype=torch.uint8),\n",
       " tensor([0, 1, 1,  ..., 0, 0, 0], dtype=torch.uint8),\n",
       " tensor([0, 1, 1,  ..., 0, 0, 0], dtype=torch.uint8),\n",
       " tensor([0, 1, 1,  ..., 0, 0, 0], dtype=torch.uint8),\n",
       " tensor([0, 1, 1,  ..., 0, 0, 0], dtype=torch.uint8),\n",
       " tensor([0, 1, 1,  ..., 0, 0, 0], dtype=torch.uint8),\n",
       " tensor([0, 1, 1,  ..., 0, 0, 0], dtype=torch.uint8),\n",
       " tensor([0, 1, 1,  ..., 0, 0, 0], dtype=torch.uint8),\n",
       " tensor([0, 1, 1,  ..., 0, 0, 0], dtype=torch.uint8),\n",
       " tensor([0, 1, 1,  ..., 0, 0, 0], dtype=torch.uint8),\n",
       " tensor([0, 1, 1,  ..., 0, 0, 0], dtype=torch.uint8),\n",
       " tensor([0, 1, 1,  ..., 0, 0, 0], dtype=torch.uint8),\n",
       " tensor([0, 1, 1,  ..., 0, 0, 0], dtype=torch.uint8),\n",
       " tensor([0, 1, 1,  ..., 0, 0, 0], dtype=torch.uint8),\n",
       " tensor([0, 1, 1,  ..., 0, 0, 0], dtype=torch.uint8),\n",
       " tensor([0, 1, 1,  ..., 0, 0, 0], dtype=torch.uint8),\n",
       " tensor([0, 1, 1,  ..., 0, 0, 0], dtype=torch.uint8),\n",
       " tensor([0, 1, 1,  ..., 0, 0, 0], dtype=torch.uint8),\n",
       " tensor([0, 1, 1,  ..., 0, 0, 0], dtype=torch.uint8),\n",
       " tensor([0, 1, 1,  ..., 0, 0, 0], dtype=torch.uint8),\n",
       " tensor([0, 1, 1,  ..., 0, 0, 0], dtype=torch.uint8),\n",
       " tensor([0, 1, 1,  ..., 0, 0, 0], dtype=torch.uint8),\n",
       " tensor([0, 1, 1,  ..., 0, 0, 0], dtype=torch.uint8),\n",
       " tensor([0, 1, 1,  ..., 0, 0, 0], dtype=torch.uint8),\n",
       " tensor([0, 1, 1,  ..., 0, 0, 0], dtype=torch.uint8),\n",
       " tensor([0, 1, 1,  ..., 0, 0, 0], dtype=torch.uint8),\n",
       " tensor([0, 1, 1,  ..., 0, 0, 0], dtype=torch.uint8),\n",
       " tensor([0, 1, 1,  ..., 0, 0, 0], dtype=torch.uint8),\n",
       " tensor([0, 1, 1,  ..., 0, 0, 0], dtype=torch.uint8),\n",
       " tensor([0, 1, 1,  ..., 0, 0, 0], dtype=torch.uint8),\n",
       " tensor([0, 1, 1,  ..., 0, 0, 0], dtype=torch.uint8),\n",
       " tensor([0, 1, 1,  ..., 0, 0, 0], dtype=torch.uint8),\n",
       " tensor([0, 1, 1,  ..., 0, 0, 0], dtype=torch.uint8),\n",
       " tensor([0, 1, 1,  ..., 0, 0, 0], dtype=torch.uint8),\n",
       " tensor([0, 1, 1,  ..., 0, 0, 0], dtype=torch.uint8),\n",
       " tensor([0, 1, 1,  ..., 0, 0, 0], dtype=torch.uint8),\n",
       " tensor([0, 1, 1,  ..., 0, 0, 0], dtype=torch.uint8),\n",
       " tensor([0, 1, 1,  ..., 0, 0, 0], dtype=torch.uint8),\n",
       " tensor([0, 1, 1,  ..., 0, 0, 0], dtype=torch.uint8),\n",
       " tensor([0, 1, 1,  ..., 0, 0, 0], dtype=torch.uint8),\n",
       " tensor([0, 1, 1,  ..., 0, 0, 0], dtype=torch.uint8),\n",
       " tensor([0, 1, 1,  ..., 0, 0, 0], dtype=torch.uint8),\n",
       " tensor([0, 1, 1,  ..., 0, 0, 0], dtype=torch.uint8),\n",
       " tensor([0, 1, 1,  ..., 0, 0, 0], dtype=torch.uint8),\n",
       " tensor([0, 1, 1,  ..., 0, 0, 0], dtype=torch.uint8),\n",
       " tensor([0, 1, 1,  ..., 0, 0, 0], dtype=torch.uint8),\n",
       " tensor([0, 1, 1,  ..., 0, 0, 0], dtype=torch.uint8),\n",
       " tensor([0, 1, 1,  ..., 0, 0, 0], dtype=torch.uint8),\n",
       " tensor([0, 1, 1,  ..., 0, 0, 0], dtype=torch.uint8),\n",
       " tensor([0, 1, 1,  ..., 0, 0, 0], dtype=torch.uint8),\n",
       " tensor([0, 1, 1,  ..., 0, 0, 0], dtype=torch.uint8),\n",
       " tensor([0, 1, 1,  ..., 0, 0, 0], dtype=torch.uint8),\n",
       " tensor([0, 1, 1,  ..., 0, 0, 0], dtype=torch.uint8),\n",
       " tensor([0, 1, 1,  ..., 0, 0, 0], dtype=torch.uint8),\n",
       " tensor([0, 1, 1,  ..., 0, 0, 0], dtype=torch.uint8),\n",
       " tensor([0, 1, 1,  ..., 0, 0, 0], dtype=torch.uint8),\n",
       " tensor([0, 1, 1,  ..., 0, 0, 0], dtype=torch.uint8),\n",
       " tensor([0, 1, 1,  ..., 0, 0, 0], dtype=torch.uint8),\n",
       " tensor([0, 1, 1,  ..., 0, 0, 0], dtype=torch.uint8),\n",
       " tensor([0, 1, 1,  ..., 0, 0, 0], dtype=torch.uint8),\n",
       " tensor([0, 1, 1,  ..., 0, 0, 0], dtype=torch.uint8),\n",
       " tensor([0, 1, 1,  ..., 0, 0, 0], dtype=torch.uint8),\n",
       " tensor([0, 1, 1,  ..., 0, 0, 0], dtype=torch.uint8),\n",
       " tensor([0, 1, 1,  ..., 0, 0, 0], dtype=torch.uint8),\n",
       " tensor([0, 1, 1,  ..., 0, 0, 0], dtype=torch.uint8),\n",
       " tensor([0, 1, 1,  ..., 0, 0, 0], dtype=torch.uint8),\n",
       " tensor([0, 1, 1,  ..., 0, 0, 0], dtype=torch.uint8),\n",
       " tensor([0, 1, 1,  ..., 0, 0, 0], dtype=torch.uint8),\n",
       " tensor([0, 1, 1,  ..., 0, 0, 0], dtype=torch.uint8),\n",
       " tensor([0, 1, 1,  ..., 0, 0, 0], dtype=torch.uint8),\n",
       " tensor([0, 1, 1,  ..., 0, 0, 0], dtype=torch.uint8),\n",
       " tensor([0, 1, 1,  ..., 0, 0, 0], dtype=torch.uint8),\n",
       " tensor([0, 1, 1,  ..., 0, 0, 0], dtype=torch.uint8),\n",
       " tensor([0, 1, 1,  ..., 0, 0, 0], dtype=torch.uint8),\n",
       " tensor([0, 1, 1,  ..., 0, 0, 0], dtype=torch.uint8),\n",
       " tensor([0, 1, 1,  ..., 0, 0, 0], dtype=torch.uint8),\n",
       " tensor([0, 1, 1,  ..., 0, 0, 0], dtype=torch.uint8),\n",
       " tensor([0, 1, 1,  ..., 0, 0, 0], dtype=torch.uint8),\n",
       " tensor([0, 1, 1,  ..., 0, 0, 0], dtype=torch.uint8),\n",
       " tensor([0, 1, 1,  ..., 0, 0, 0], dtype=torch.uint8),\n",
       " tensor([0, 1, 1,  ..., 0, 0, 0], dtype=torch.uint8),\n",
       " tensor([0, 1, 1,  ..., 0, 0, 0], dtype=torch.uint8),\n",
       " tensor([0, 1, 1,  ..., 0, 0, 0], dtype=torch.uint8),\n",
       " tensor([0, 1, 1,  ..., 0, 0, 0], dtype=torch.uint8),\n",
       " tensor([0, 1, 1,  ..., 0, 0, 0], dtype=torch.uint8),\n",
       " tensor([0, 1, 1,  ..., 0, 0, 0], dtype=torch.uint8),\n",
       " tensor([0, 1, 1,  ..., 0, 0, 0], dtype=torch.uint8),\n",
       " tensor([0, 1, 1,  ..., 0, 0, 0], dtype=torch.uint8),\n",
       " tensor([0, 1, 1,  ..., 0, 0, 0], dtype=torch.uint8),\n",
       " tensor([0, 1, 1,  ..., 0, 0, 0], dtype=torch.uint8),\n",
       " tensor([0, 1, 1,  ..., 0, 0, 0], dtype=torch.uint8),\n",
       " tensor([0, 1, 1,  ..., 0, 0, 0], dtype=torch.uint8),\n",
       " tensor([0, 1, 1,  ..., 0, 0, 0], dtype=torch.uint8),\n",
       " tensor([0, 1, 1,  ..., 0, 0, 0], dtype=torch.uint8),\n",
       " tensor([0, 1, 1,  ..., 0, 0, 0], dtype=torch.uint8),\n",
       " tensor([0, 1, 1,  ..., 0, 0, 0], dtype=torch.uint8),\n",
       " tensor([0, 1, 1,  ..., 0, 0, 0], dtype=torch.uint8),\n",
       " tensor([0, 1, 1,  ..., 0, 0, 0], dtype=torch.uint8),\n",
       " tensor([0, 1, 1,  ..., 0, 0, 0], dtype=torch.uint8),\n",
       " tensor([0, 1, 1,  ..., 0, 0, 0], dtype=torch.uint8),\n",
       " tensor([0, 1, 1,  ..., 0, 0, 0], dtype=torch.uint8),\n",
       " tensor([0, 1, 1,  ..., 0, 0, 0], dtype=torch.uint8),\n",
       " tensor([0, 1, 1,  ..., 0, 0, 0], dtype=torch.uint8),\n",
       " tensor([0, 1, 1,  ..., 0, 0, 0], dtype=torch.uint8),\n",
       " tensor([0, 1, 1,  ..., 0, 0, 0], dtype=torch.uint8),\n",
       " tensor([0, 1, 1,  ..., 0, 0, 0], dtype=torch.uint8),\n",
       " tensor([0, 1, 1,  ..., 0, 0, 0], dtype=torch.uint8),\n",
       " tensor([0, 1, 1,  ..., 0, 0, 0], dtype=torch.uint8),\n",
       " tensor([0, 1, 1,  ..., 0, 0, 0], dtype=torch.uint8),\n",
       " tensor([0, 1, 1,  ..., 0, 0, 0], dtype=torch.uint8),\n",
       " tensor([0, 1, 1,  ..., 0, 0, 0], dtype=torch.uint8),\n",
       " tensor([0, 1, 1,  ..., 0, 0, 0], dtype=torch.uint8),\n",
       " tensor([0, 1, 1,  ..., 0, 0, 0], dtype=torch.uint8),\n",
       " tensor([0, 1, 1,  ..., 0, 0, 0], dtype=torch.uint8),\n",
       " tensor([0, 1, 1,  ..., 0, 0, 0], dtype=torch.uint8),\n",
       " tensor([0, 1, 1,  ..., 0, 0, 0], dtype=torch.uint8),\n",
       " tensor([0, 1, 1,  ..., 0, 0, 0], dtype=torch.uint8),\n",
       " tensor([0, 1, 1,  ..., 0, 0, 0], dtype=torch.uint8),\n",
       " tensor([0, 1, 1,  ..., 0, 0, 0], dtype=torch.uint8),\n",
       " tensor([0, 1, 1,  ..., 0, 0, 0], dtype=torch.uint8),\n",
       " tensor([0, 1, 1,  ..., 0, 0, 0], dtype=torch.uint8),\n",
       " tensor([0, 1, 1,  ..., 0, 0, 0], dtype=torch.uint8),\n",
       " tensor([0, 1, 1,  ..., 0, 0, 0], dtype=torch.uint8),\n",
       " tensor([0, 1, 1,  ..., 0, 0, 0], dtype=torch.uint8),\n",
       " tensor([0, 1, 1,  ..., 0, 0, 0], dtype=torch.uint8),\n",
       " tensor([0, 1, 1,  ..., 0, 0, 0], dtype=torch.uint8),\n",
       " tensor([0, 1, 1,  ..., 0, 0, 0], dtype=torch.uint8),\n",
       " tensor([0, 1, 1,  ..., 0, 0, 0], dtype=torch.uint8),\n",
       " tensor([0, 1, 1,  ..., 0, 0, 0], dtype=torch.uint8),\n",
       " tensor([0, 1, 1,  ..., 0, 0, 0], dtype=torch.uint8),\n",
       " tensor([0, 1, 1,  ..., 0, 0, 0], dtype=torch.uint8),\n",
       " tensor([0, 1, 1,  ..., 0, 0, 0], dtype=torch.uint8),\n",
       " tensor([0, 1, 1,  ..., 0, 0, 0], dtype=torch.uint8),\n",
       " tensor([0, 1, 1,  ..., 0, 0, 0], dtype=torch.uint8),\n",
       " tensor([0, 1, 1,  ..., 0, 0, 0], dtype=torch.uint8),\n",
       " tensor([0, 1, 1,  ..., 0, 0, 0], dtype=torch.uint8),\n",
       " tensor([0, 1, 1,  ..., 0, 0, 0], dtype=torch.uint8),\n",
       " tensor([0, 1, 1,  ..., 0, 0, 0], dtype=torch.uint8),\n",
       " tensor([0, 1, 1,  ..., 0, 0, 0], dtype=torch.uint8),\n",
       " tensor([0, 1, 1,  ..., 0, 0, 0], dtype=torch.uint8),\n",
       " tensor([0, 1, 1,  ..., 0, 0, 0], dtype=torch.uint8),\n",
       " tensor([0, 1, 1,  ..., 0, 0, 0], dtype=torch.uint8),\n",
       " tensor([0, 1, 1,  ..., 0, 0, 0], dtype=torch.uint8),\n",
       " tensor([0, 1, 1,  ..., 0, 0, 0], dtype=torch.uint8),\n",
       " tensor([0, 1, 1,  ..., 0, 0, 0], dtype=torch.uint8),\n",
       " tensor([0, 1, 1,  ..., 0, 0, 0], dtype=torch.uint8),\n",
       " tensor([0, 1, 1,  ..., 0, 0, 0], dtype=torch.uint8),\n",
       " tensor([0, 1, 1,  ..., 0, 0, 0], dtype=torch.uint8),\n",
       " tensor([0, 1, 1,  ..., 0, 0, 0], dtype=torch.uint8),\n",
       " tensor([0, 1, 1,  ..., 0, 0, 0], dtype=torch.uint8),\n",
       " tensor([0, 1, 1,  ..., 0, 0, 0], dtype=torch.uint8),\n",
       " tensor([0, 1, 1,  ..., 0, 0, 0], dtype=torch.uint8),\n",
       " tensor([0, 1, 1,  ..., 0, 0, 0], dtype=torch.uint8),\n",
       " tensor([0, 1, 1,  ..., 0, 0, 0], dtype=torch.uint8),\n",
       " tensor([0, 1, 1,  ..., 0, 0, 0], dtype=torch.uint8),\n",
       " tensor([0, 1, 1,  ..., 0, 0, 0], dtype=torch.uint8),\n",
       " tensor([0, 1, 1,  ..., 0, 0, 0], dtype=torch.uint8),\n",
       " tensor([0, 1, 1,  ..., 0, 0, 0], dtype=torch.uint8),\n",
       " tensor([0, 1, 1,  ..., 0, 0, 0], dtype=torch.uint8),\n",
       " tensor([0, 1, 1,  ..., 0, 0, 0], dtype=torch.uint8),\n",
       " tensor([0, 1, 1,  ..., 0, 0, 0], dtype=torch.uint8),\n",
       " tensor([0, 1, 1,  ..., 0, 0, 0], dtype=torch.uint8),\n",
       " tensor([0, 1, 1,  ..., 0, 0, 0], dtype=torch.uint8),\n",
       " tensor([0, 1, 1,  ..., 0, 0, 0], dtype=torch.uint8),\n",
       " tensor([0, 1, 1,  ..., 0, 0, 0], dtype=torch.uint8),\n",
       " tensor([0, 1, 1,  ..., 0, 0, 0], dtype=torch.uint8),\n",
       " tensor([0, 1, 1,  ..., 0, 0, 0], dtype=torch.uint8),\n",
       " tensor([0, 1, 1,  ..., 0, 0, 0], dtype=torch.uint8),\n",
       " tensor([0, 1, 1,  ..., 0, 0, 0], dtype=torch.uint8),\n",
       " tensor([0, 1, 1,  ..., 0, 0, 0], dtype=torch.uint8),\n",
       " tensor([0, 1, 1,  ..., 0, 0, 0], dtype=torch.uint8),\n",
       " tensor([0, 1, 1,  ..., 0, 0, 0], dtype=torch.uint8),\n",
       " tensor([0, 1, 1,  ..., 0, 0, 0], dtype=torch.uint8),\n",
       " tensor([0, 1, 1,  ..., 0, 0, 0], dtype=torch.uint8),\n",
       " tensor([0, 1, 1,  ..., 0, 0, 0], dtype=torch.uint8),\n",
       " tensor([0, 1, 1,  ..., 0, 0, 0], dtype=torch.uint8),\n",
       " tensor([0, 1, 1,  ..., 0, 0, 0], dtype=torch.uint8),\n",
       " tensor([0, 1, 1,  ..., 0, 0, 0], dtype=torch.uint8),\n",
       " tensor([0, 1, 1,  ..., 0, 0, 0], dtype=torch.uint8),\n",
       " tensor([0, 1, 1,  ..., 0, 0, 0], dtype=torch.uint8),\n",
       " tensor([0, 1, 1,  ..., 0, 0, 0], dtype=torch.uint8),\n",
       " tensor([0, 1, 1,  ..., 0, 0, 0], dtype=torch.uint8),\n",
       " tensor([0, 1, 1,  ..., 0, 0, 0], dtype=torch.uint8),\n",
       " tensor([0, 1, 1,  ..., 0, 0, 0], dtype=torch.uint8),\n",
       " tensor([0, 1, 1,  ..., 0, 0, 0], dtype=torch.uint8),\n",
       " tensor([0, 1, 1,  ..., 0, 0, 0], dtype=torch.uint8),\n",
       " tensor([0, 1, 1,  ..., 0, 0, 0], dtype=torch.uint8),\n",
       " tensor([0, 1, 1,  ..., 0, 0, 0], dtype=torch.uint8),\n",
       " tensor([0, 1, 1,  ..., 0, 0, 0], dtype=torch.uint8),\n",
       " tensor([0, 1, 1,  ..., 0, 0, 0], dtype=torch.uint8),\n",
       " tensor([0, 1, 1,  ..., 0, 0, 0], dtype=torch.uint8),\n",
       " tensor([0, 1, 1,  ..., 0, 0, 0], dtype=torch.uint8),\n",
       " tensor([0, 1, 1,  ..., 0, 0, 0], dtype=torch.uint8),\n",
       " tensor([0, 1, 1,  ..., 0, 0, 0], dtype=torch.uint8),\n",
       " tensor([0, 1, 1,  ..., 0, 0, 0], dtype=torch.uint8),\n",
       " tensor([0, 1, 1,  ..., 0, 0, 0], dtype=torch.uint8),\n",
       " tensor([0, 1, 1,  ..., 0, 0, 0], dtype=torch.uint8),\n",
       " tensor([0, 1, 1,  ..., 0, 0, 0], dtype=torch.uint8),\n",
       " tensor([0, 1, 1,  ..., 0, 0, 0], dtype=torch.uint8),\n",
       " tensor([0, 1, 1,  ..., 0, 0, 0], dtype=torch.uint8),\n",
       " tensor([0, 1, 1,  ..., 0, 0, 0], dtype=torch.uint8),\n",
       " ...]"
      ]
     },
     "execution_count": 8,
     "metadata": {},
     "output_type": "execute_result"
    }
   ],
   "source": [
    "pdbs"
   ]
  },
  {
   "cell_type": "code",
   "execution_count": 9,
   "metadata": {},
   "outputs": [],
   "source": [
    "def create_db_and_parallels(num_entries):\n",
    "    db = torch.rand(num_entries) > 0.5\n",
    "    pdbs = get_parallel_dbs(db)\n",
    "    \n",
    "    return db, pdbs"
   ]
  },
  {
   "cell_type": "code",
   "execution_count": 10,
   "metadata": {},
   "outputs": [],
   "source": [
    "db, pdbs = create_db_and_parallels(20)"
   ]
  },
  {
   "cell_type": "code",
   "execution_count": 11,
   "metadata": {},
   "outputs": [
    {
     "data": {
      "text/plain": [
       "tensor([1, 1, 1, 1, 1, 1, 1, 1, 1, 0, 1, 0, 1, 0, 1, 0, 1, 1, 1, 1],\n",
       "       dtype=torch.uint8)"
      ]
     },
     "execution_count": 11,
     "metadata": {},
     "output_type": "execute_result"
    }
   ],
   "source": [
    "db"
   ]
  },
  {
   "cell_type": "code",
   "execution_count": 12,
   "metadata": {},
   "outputs": [
    {
     "data": {
      "text/plain": [
       "[tensor([1, 1, 1, 1, 1, 1, 1, 1, 0, 1, 0, 1, 0, 1, 0, 1, 1, 1, 1],\n",
       "        dtype=torch.uint8),\n",
       " tensor([1, 1, 1, 1, 1, 1, 1, 1, 0, 1, 0, 1, 0, 1, 0, 1, 1, 1, 1],\n",
       "        dtype=torch.uint8),\n",
       " tensor([1, 1, 1, 1, 1, 1, 1, 1, 0, 1, 0, 1, 0, 1, 0, 1, 1, 1, 1],\n",
       "        dtype=torch.uint8),\n",
       " tensor([1, 1, 1, 1, 1, 1, 1, 1, 0, 1, 0, 1, 0, 1, 0, 1, 1, 1, 1],\n",
       "        dtype=torch.uint8),\n",
       " tensor([1, 1, 1, 1, 1, 1, 1, 1, 0, 1, 0, 1, 0, 1, 0, 1, 1, 1, 1],\n",
       "        dtype=torch.uint8),\n",
       " tensor([1, 1, 1, 1, 1, 1, 1, 1, 0, 1, 0, 1, 0, 1, 0, 1, 1, 1, 1],\n",
       "        dtype=torch.uint8),\n",
       " tensor([1, 1, 1, 1, 1, 1, 1, 1, 0, 1, 0, 1, 0, 1, 0, 1, 1, 1, 1],\n",
       "        dtype=torch.uint8),\n",
       " tensor([1, 1, 1, 1, 1, 1, 1, 1, 0, 1, 0, 1, 0, 1, 0, 1, 1, 1, 1],\n",
       "        dtype=torch.uint8),\n",
       " tensor([1, 1, 1, 1, 1, 1, 1, 1, 0, 1, 0, 1, 0, 1, 0, 1, 1, 1, 1],\n",
       "        dtype=torch.uint8),\n",
       " tensor([1, 1, 1, 1, 1, 1, 1, 1, 1, 1, 0, 1, 0, 1, 0, 1, 1, 1, 1],\n",
       "        dtype=torch.uint8),\n",
       " tensor([1, 1, 1, 1, 1, 1, 1, 1, 1, 0, 0, 1, 0, 1, 0, 1, 1, 1, 1],\n",
       "        dtype=torch.uint8),\n",
       " tensor([1, 1, 1, 1, 1, 1, 1, 1, 1, 0, 1, 1, 0, 1, 0, 1, 1, 1, 1],\n",
       "        dtype=torch.uint8),\n",
       " tensor([1, 1, 1, 1, 1, 1, 1, 1, 1, 0, 1, 0, 0, 1, 0, 1, 1, 1, 1],\n",
       "        dtype=torch.uint8),\n",
       " tensor([1, 1, 1, 1, 1, 1, 1, 1, 1, 0, 1, 0, 1, 1, 0, 1, 1, 1, 1],\n",
       "        dtype=torch.uint8),\n",
       " tensor([1, 1, 1, 1, 1, 1, 1, 1, 1, 0, 1, 0, 1, 0, 0, 1, 1, 1, 1],\n",
       "        dtype=torch.uint8),\n",
       " tensor([1, 1, 1, 1, 1, 1, 1, 1, 1, 0, 1, 0, 1, 0, 1, 1, 1, 1, 1],\n",
       "        dtype=torch.uint8),\n",
       " tensor([1, 1, 1, 1, 1, 1, 1, 1, 1, 0, 1, 0, 1, 0, 1, 0, 1, 1, 1],\n",
       "        dtype=torch.uint8),\n",
       " tensor([1, 1, 1, 1, 1, 1, 1, 1, 1, 0, 1, 0, 1, 0, 1, 0, 1, 1, 1],\n",
       "        dtype=torch.uint8),\n",
       " tensor([1, 1, 1, 1, 1, 1, 1, 1, 1, 0, 1, 0, 1, 0, 1, 0, 1, 1, 1],\n",
       "        dtype=torch.uint8),\n",
       " tensor([1, 1, 1, 1, 1, 1, 1, 1, 1, 0, 1, 0, 1, 0, 1, 0, 1, 1, 1],\n",
       "        dtype=torch.uint8)]"
      ]
     },
     "execution_count": 12,
     "metadata": {},
     "output_type": "execute_result"
    }
   ],
   "source": [
    "pdbs"
   ]
  },
  {
   "cell_type": "markdown",
   "metadata": {},
   "source": [
    "<b>Towards evaluating the differential privacy of a function</b>\n",
    "\n",
    "<p>\n",
    "Intuitively, we want to be able to query our database and evaluate whether or not the result of the query is leaking private information. This is about evaluating whether the output of a query changes when we remove someone from the database. Specifically, we want to evaluate the maximum amount the query changes when someone is removed (maximum over all possible people who could be removed). So, in order to evaluate how much privacy is leaked, we´re going to iterate over each person in the database and measure the difference in the output of the query relative to when we query the entire database.\n",
    "</p>\n",
    "<p>Just for the sake of argument, let's make our first \"database query\" a simple sum. Aka, we´re going to count the number of 1s in the database</p>"
   ]
  },
  {
   "cell_type": "code",
   "execution_count": 13,
   "metadata": {},
   "outputs": [],
   "source": [
    "db, pdbs = create_db_and_parallels(5000)"
   ]
  },
  {
   "cell_type": "code",
   "execution_count": 14,
   "metadata": {},
   "outputs": [
    {
     "data": {
      "text/plain": [
       "tensor([0, 1, 0,  ..., 0, 0, 1], dtype=torch.uint8)"
      ]
     },
     "execution_count": 14,
     "metadata": {},
     "output_type": "execute_result"
    }
   ],
   "source": [
    "db"
   ]
  },
  {
   "cell_type": "code",
   "execution_count": 15,
   "metadata": {},
   "outputs": [],
   "source": [
    "def query(db):\n",
    "    return db.sum()"
   ]
  },
  {
   "cell_type": "code",
   "execution_count": 16,
   "metadata": {},
   "outputs": [
    {
     "data": {
      "text/plain": [
       "tensor(2533)"
      ]
     },
     "execution_count": 16,
     "metadata": {},
     "output_type": "execute_result"
    }
   ],
   "source": [
    "query(db)"
   ]
  },
  {
   "cell_type": "code",
   "execution_count": 17,
   "metadata": {},
   "outputs": [
    {
     "data": {
      "text/plain": [
       "tensor(2532)"
      ]
     },
     "execution_count": 17,
     "metadata": {},
     "output_type": "execute_result"
    }
   ],
   "source": [
    "#next we see that:\n",
    "#when we remove data from the database,\n",
    "#the output of the query changes\n",
    "query(pdbs[5])"
   ]
  },
  {
   "cell_type": "code",
   "execution_count": 18,
   "metadata": {},
   "outputs": [],
   "source": [
    "#let´s see the max amount of change\n",
    "full_db_result = query(db)"
   ]
  },
  {
   "cell_type": "code",
   "execution_count": 19,
   "metadata": {},
   "outputs": [],
   "source": [
    "max_distance = 0\n",
    "for pdb in pdbs:\n",
    "    pdb_result = query(pdb)\n",
    "    \n",
    "    #L1 sensitivity\n",
    "    db_distance = torch.abs(pdb_result - full_db_result)\n",
    "    \n",
    "    if (db_distance > max_distance):\n",
    "        max_distance = db_distance"
   ]
  },
  {
   "cell_type": "code",
   "execution_count": 20,
   "metadata": {},
   "outputs": [
    {
     "data": {
      "text/plain": [
       "tensor(1)"
      ]
     },
     "execution_count": 20,
     "metadata": {},
     "output_type": "execute_result"
    }
   ],
   "source": [
    "#Sensitivity\n",
    "max_distance"
   ]
  },
  {
   "cell_type": "markdown",
   "metadata": {},
   "source": [
    "Some facts:\n",
    "max_distance will always be 1 in this database with this particular query, because there are only two possible values, 0 and 1"
   ]
  },
  {
   "cell_type": "markdown",
   "metadata": {},
   "source": [
    "<b>Evaluating the privacy of a function</b>\n",
    "\n",
    "Create a function that measures sensitivity on whichever query done in the databases"
   ]
  },
  {
   "cell_type": "code",
   "execution_count": 21,
   "metadata": {},
   "outputs": [],
   "source": [
    "#Let's try to calculate the sensitivity for the \"mean\" function\n",
    "def sensitivity(query, n_entries = 1000):\n",
    "    \n",
    "    db, pdbs = create_db_and_parallels(n_entries)\n",
    "    \n",
    "    full_db_result = query(db)\n",
    "    \n",
    "    max_distance = 0\n",
    "    for pdb in pdbs:\n",
    "        pdb_result = query(pdb)\n",
    "        \n",
    "        #L1 sensitivity\n",
    "        db_distance = torch.abs(pdb_result - full_db_result)\n",
    "        \n",
    "        if (db_distance > max_distance):\n",
    "            max_distance = db_distance\n",
    "    return max_distance"
   ]
  },
  {
   "cell_type": "code",
   "execution_count": 22,
   "metadata": {},
   "outputs": [],
   "source": [
    "def query(db):\n",
    "    return db.float().mean()"
   ]
  },
  {
   "cell_type": "code",
   "execution_count": 23,
   "metadata": {},
   "outputs": [
    {
     "data": {
      "text/plain": [
       "tensor(0.0005)"
      ]
     },
     "execution_count": 23,
     "metadata": {},
     "output_type": "execute_result"
    }
   ],
   "source": [
    "sensitivity(query)"
   ]
  },
  {
   "cell_type": "markdown",
   "metadata": {},
   "source": [
    "Some conclusions:\n",
    "We are assuming we´re dealing with people. We care about sensitivity to people: not about sensitivity to removing certain values, but about removing ALL values related to a person"
   ]
  },
  {
   "cell_type": "markdown",
   "metadata": {},
   "source": [
    "<b>Calculate L1 sensitivity for threshold</b>\n",
    "<p>I am going to calculate the sensitivity for the \"threshold\" function</p>\n",
    "<ul>\n",
    "    <li>Create the query function: a sum, and return if the queried database is greater or less than a threshold</li>\n",
    "    <li>Create 10 databases of size 10 (threshold = 5) and query them, calculating the sensitivity of each</li>\n",
    "    <li>Print out the sensitivity of each database</li>\n",
    "</ul>"
   ]
  },
  {
   "cell_type": "code",
   "execution_count": 24,
   "metadata": {},
   "outputs": [],
   "source": [
    "def query(db, threshold = 5):\n",
    "    return (db.sum() > threshold).float()"
   ]
  },
  {
   "cell_type": "code",
   "execution_count": 25,
   "metadata": {},
   "outputs": [
    {
     "name": "stdout",
     "output_type": "stream",
     "text": [
      "0\n",
      "0\n",
      "0\n",
      "0\n",
      "tensor(1.)\n",
      "0\n",
      "0\n",
      "0\n",
      "0\n",
      "0\n"
     ]
    }
   ],
   "source": [
    "for i in range(10):\n",
    "    sens_f = sensitivity(query, n_entries = 10)\n",
    "    print(sens_f)"
   ]
  },
  {
   "cell_type": "markdown",
   "metadata": {},
   "source": [
    "Some conclusions:\n",
    "<ul>\n",
    "    <li>When n_entries is equal or less than threshold, query will be 0 in original and parallel databases, thus having sensitivity 0</li>\n",
    "    <li>When having parallel databases querying 1 for a given threshold, as original database queries 1, we have sensitivity 0</li>\n",
    "    <li>For n_entries greater than threshold, when original database queries 1 and some parallel database queries 0, whe have sensitivity 1</li>\n",
    "</ul>\n",
    "<p>Thus we have a database conditioned sensitivity</p>"
   ]
  },
  {
   "cell_type": "markdown",
   "metadata": {},
   "source": [
    "<b>Perform a differencing attack</b>\n",
    "<p>I am going to perform a basic differencing attack to divulge what the value in row 10 is in database</p>\n",
    "<p>In order to do this, I am going to first query the entire databse, and then the database without row 10</p>"
   ]
  },
  {
   "cell_type": "code",
   "execution_count": 26,
   "metadata": {},
   "outputs": [],
   "source": [
    "db, _ = create_db_and_parallels(100)"
   ]
  },
  {
   "cell_type": "code",
   "execution_count": 27,
   "metadata": {},
   "outputs": [],
   "source": [
    "pdb = get_parallel_db(db, remove_index = 10)"
   ]
  },
  {
   "cell_type": "code",
   "execution_count": 28,
   "metadata": {},
   "outputs": [
    {
     "data": {
      "text/plain": [
       "tensor(1, dtype=torch.uint8)"
      ]
     },
     "execution_count": 28,
     "metadata": {},
     "output_type": "execute_result"
    }
   ],
   "source": [
    "db[10]"
   ]
  },
  {
   "cell_type": "code",
   "execution_count": 29,
   "metadata": {},
   "outputs": [
    {
     "data": {
      "text/plain": [
       "tensor(56, dtype=torch.uint8)"
      ]
     },
     "execution_count": 29,
     "metadata": {},
     "output_type": "execute_result"
    }
   ],
   "source": [
    "sum(db)"
   ]
  },
  {
   "cell_type": "code",
   "execution_count": 30,
   "metadata": {},
   "outputs": [
    {
     "data": {
      "text/plain": [
       "tensor(1, dtype=torch.uint8)"
      ]
     },
     "execution_count": 30,
     "metadata": {},
     "output_type": "execute_result"
    }
   ],
   "source": [
    "#differencing attack using sum query\n",
    "sum(db) - sum(pdb)"
   ]
  },
  {
   "cell_type": "code",
   "execution_count": 31,
   "metadata": {},
   "outputs": [
    {
     "data": {
      "text/plain": [
       "tensor(0.0044)"
      ]
     },
     "execution_count": 31,
     "metadata": {},
     "output_type": "execute_result"
    }
   ],
   "source": [
    "#differencing attack using mean query\n",
    "(sum(db).float()/len(db)) - (sum(pdb).float()/len(pdb))"
   ]
  },
  {
   "cell_type": "code",
   "execution_count": 32,
   "metadata": {},
   "outputs": [
    {
     "data": {
      "text/plain": [
       "tensor(0, dtype=torch.uint8)"
      ]
     },
     "execution_count": 32,
     "metadata": {},
     "output_type": "execute_result"
    }
   ],
   "source": [
    "#differencing attack using thresold\n",
    "(sum(db).float() > 42) - (sum(pdb).float() > 42)"
   ]
  },
  {
   "cell_type": "markdown",
   "metadata": {},
   "source": [
    "<b>Project: Local Differential Privacy</b>\n",
    "\n",
    "<p>As you can see, the basic sum query is not differentially private at all! In truth, differential privacy always requires a form of randomness added to the query</p>\n",
    "\n",
    "<b>Randomized response (local differential privacy)</b>\n",
    "\n",
    "<p>\n",
    "Let's say I have a group of people a wish to survey about a very taboo behavior which I think they will lie about (say, I want to know if they have ever committed a certain kind of crime. I'm not a policeman, I'm just trying to collect statistics to understand the higher level trend in society. So, how do we do this? One technique is to add randomness to each person's response by giving each personthe following instructions (assumming I'm asking a simple yes/no question):\n",
    "    <ul>\n",
    "        <li>Flip a coin two times</li>\n",
    "        <li>If the first coin flip is heads, answer honestly</li>\n",
    "        <li>If the first coin flip is tails, answer according to the second coin flip (heads for yes, tails for no)!</li>\n",
    "    </ul>\n",
    "Thus, each person is now protected with \"plausible deniabulity\". If they answer \"Yes\" to the question \"have you commited X crime?\", then it might be because they actually did, or it might be because they are answering according to a random coin flip. Each person has a high degree of protection. Furthermore, we can recover the underlying statistics with some accuracy, as the \"true statistics\" are simply averaged with a 50% probability. Thus, if we collect a bunch of samples and it turns out that 60% of people answer yes, then we know that the TRUE distribution is actually centered around 70%, because 70%averaged with 50% (a coin flip) is 60%, which is the result we obtained.\n",
    "</p>\n",
    "<p>However, it should be noted that, especially when we only have a few samples, this comes at the cost of accuracy. This tradeoff exists across all of Differential Privacy. The greater the privacy protection (plausible deniability), the less accurate the results.</p>\n",
    "<p>Let's implement this local DP for our databse before!</p>"
   ]
  },
  {
   "cell_type": "code",
   "execution_count": 33,
   "metadata": {},
   "outputs": [],
   "source": [
    "def query(db):\n",
    "    true_result = torch.mean(db.float())\n",
    "    \n",
    "    first_coin_flip = (torch.rand(len(db)) > 0.5).float()\n",
    "    second_coin_flip = (torch.rand(len(db)) > 0.5).float()\n",
    "\n",
    "    augmented_db = db.float() * first_coin_flip + (1 - first_coin_flip) * second_coin_flip\n",
    "\n",
    "    db_result = torch.mean(augmented_db.float()) * 2 - 0.5\n",
    "    \n",
    "    return db_result, true_result"
   ]
  },
  {
   "cell_type": "code",
   "execution_count": 34,
   "metadata": {},
   "outputs": [
    {
     "name": "stdout",
     "output_type": "stream",
     "text": [
      "With noise: tensor(0.7000)\n",
      "Without noise:tensor(0.5000)\n"
     ]
    }
   ],
   "source": [
    "db, pdbs = create_db_and_parallels(10)\n",
    "private_result, true_result = query(db)\n",
    "print(\"With noise: \" + str(private_result))\n",
    "print(\"Without noise:\" + str(true_result))"
   ]
  },
  {
   "cell_type": "code",
   "execution_count": 35,
   "metadata": {},
   "outputs": [
    {
     "name": "stdout",
     "output_type": "stream",
     "text": [
      "With noise: tensor(0.6000)\n",
      "Without noise:tensor(0.5200)\n"
     ]
    }
   ],
   "source": [
    "db, pdbs = create_db_and_parallels(100)\n",
    "private_result, true_result = query(db)\n",
    "print(\"With noise: \" + str(private_result))\n",
    "print(\"Without noise:\" + str(true_result))"
   ]
  },
  {
   "cell_type": "code",
   "execution_count": 36,
   "metadata": {},
   "outputs": [
    {
     "name": "stdout",
     "output_type": "stream",
     "text": [
      "With noise: tensor(0.5480)\n",
      "Without noise:tensor(0.5100)\n"
     ]
    }
   ],
   "source": [
    "db, pdbs = create_db_and_parallels(1000)\n",
    "private_result, true_result = query(db)\n",
    "print(\"With noise: \" + str(private_result))\n",
    "print(\"Without noise:\" + str(true_result))"
   ]
  },
  {
   "cell_type": "code",
   "execution_count": 37,
   "metadata": {},
   "outputs": [
    {
     "name": "stdout",
     "output_type": "stream",
     "text": [
      "With noise: tensor(0.4916)\n",
      "Without noise:tensor(0.5003)\n"
     ]
    }
   ],
   "source": [
    "db, pdbs = create_db_and_parallels(10000)\n",
    "private_result, true_result = query(db)\n",
    "print(\"With noise: \" + str(private_result))\n",
    "print(\"Without noise:\" + str(true_result))"
   ]
  },
  {
   "cell_type": "code",
   "execution_count": 38,
   "metadata": {},
   "outputs": [
    {
     "data": {
      "text/plain": [
       "'db, pdbs = create_db_and_parallels(100000)\\nprivate_result, true_result = query(db)\\nprint(\"With noise: \" + str(private_result))\\nprint(\"Without noise:\" + str(true_result))\\n'"
      ]
     },
     "execution_count": 38,
     "metadata": {},
     "output_type": "execute_result"
    }
   ],
   "source": [
    "#100,000 is too much!\n",
    "'''db, pdbs = create_db_and_parallels(100000)\n",
    "private_result, true_result = query(db)\n",
    "print(\"With noise: \" + str(private_result))\n",
    "print(\"Without noise:\" + str(true_result))\n",
    "'''"
   ]
  },
  {
   "cell_type": "markdown",
   "metadata": {},
   "source": [
    "Some conclusions:\n",
    "<ul>\n",
    "    <li>The bigger the dataset, the more the noise will tend to average out. It will tend to not affect the output of the query.</li>\n",
    "    <li>Local differential privacy is very data hungry: we add noise to every singel value of the dataset</li>\n",
    "    </ul>"
   ]
  },
  {
   "cell_type": "markdown",
   "metadata": {},
   "source": [
    "<b>Project 5: Varying amounts of noise</b>\n",
    "<p>I will augment the randomized response query to allow for varying amounts of randomness to be added. Specifically, I will bias the coin flip to be higher or lower and then run the same experiment.</p>\n",
    "<p>Note - I will adjust both the likelihood of the first coin flip AND the deskewing at the end (the db_result)</p>"
   ]
  },
  {
   "cell_type": "code",
   "execution_count": 39,
   "metadata": {},
   "outputs": [],
   "source": [
    "def query(db, noise = 0.2):\n",
    "    true_result = torch.mean(db.float())\n",
    "    \n",
    "    first_coin_flip = (torch.rand(len(db)) > noise).float()\n",
    "    second_coin_flip = (torch.rand(len(db)) > 0.5).float()\n",
    "\n",
    "    augmented_db = db.float() * first_coin_flip + (1 - first_coin_flip) * second_coin_flip\n",
    "    \n",
    "    sk_result = augmented_db.float().mean()\n",
    "    \n",
    "    private_result = ((sk_result / noise) - 0.5) * noise / (1 - noise)\n",
    "    \n",
    "    return private_result, true_result"
   ]
  },
  {
   "cell_type": "code",
   "execution_count": 40,
   "metadata": {},
   "outputs": [
    {
     "name": "stdout",
     "output_type": "stream",
     "text": [
      "With noise: tensor(0.5111)\n",
      "Without noise:tensor(0.5100)\n"
     ]
    }
   ],
   "source": [
    "db, pdbs = create_db_and_parallels(100)\n",
    "private_result, true_result = query(db, noise = 0.1)\n",
    "print(\"With noise: \" + str(private_result))\n",
    "print(\"Without noise:\" + str(true_result))"
   ]
  },
  {
   "cell_type": "code",
   "execution_count": 41,
   "metadata": {},
   "outputs": [
    {
     "name": "stdout",
     "output_type": "stream",
     "text": [
      "With noise: tensor(0.4125)\n",
      "Without noise:tensor(0.5000)\n"
     ]
    }
   ],
   "source": [
    "db, pdbs = create_db_and_parallels(100)\n",
    "private_result, true_result = query(db, noise = 0.2)\n",
    "print(\"With noise: \" + str(private_result))\n",
    "print(\"Without noise:\" + str(true_result))"
   ]
  },
  {
   "cell_type": "code",
   "execution_count": 42,
   "metadata": {},
   "outputs": [
    {
     "name": "stdout",
     "output_type": "stream",
     "text": [
      "With noise: tensor(0.5667)\n",
      "Without noise:tensor(0.5100)\n"
     ]
    }
   ],
   "source": [
    "db, pdbs = create_db_and_parallels(100)\n",
    "private_result, true_result = query(db, noise = 0.4)\n",
    "print(\"With noise: \" + str(private_result))\n",
    "print(\"Without noise:\" + str(true_result))"
   ]
  },
  {
   "cell_type": "code",
   "execution_count": 43,
   "metadata": {},
   "outputs": [
    {
     "name": "stdout",
     "output_type": "stream",
     "text": [
      "With noise: tensor(0.5500)\n",
      "Without noise:tensor(0.5400)\n"
     ]
    }
   ],
   "source": [
    "db, pdbs = create_db_and_parallels(100)\n",
    "private_result, true_result = query(db, noise = 0.8)\n",
    "print(\"With noise: \" + str(private_result))\n",
    "print(\"Without noise:\" + str(true_result))"
   ]
  },
  {
   "cell_type": "code",
   "execution_count": 44,
   "metadata": {},
   "outputs": [
    {
     "name": "stdout",
     "output_type": "stream",
     "text": [
      "With noise: tensor(0.5475)\n",
      "Without noise:tensor(0.4997)\n"
     ]
    }
   ],
   "source": [
    "db, pdbs = create_db_and_parallels(10000)\n",
    "private_result, true_result = query(db, noise = 0.8)\n",
    "print(\"With noise: \" + str(private_result))\n",
    "print(\"Without noise:\" + str(true_result))"
   ]
  },
  {
   "cell_type": "markdown",
   "metadata": {},
   "source": [
    "Conclusion: The more private data, the easier to protect privacy, thus, the more noise we can add to the data while still getting an accurate result"
   ]
  }
 ],
 "metadata": {
  "kernelspec": {
   "display_name": "Python 3",
   "language": "python",
   "name": "python3"
  },
  "language_info": {
   "codemirror_mode": {
    "name": "ipython",
    "version": 3
   },
   "file_extension": ".py",
   "mimetype": "text/x-python",
   "name": "python",
   "nbconvert_exporter": "python",
   "pygments_lexer": "ipython3",
   "version": "3.7.3"
  }
 },
 "nbformat": 4,
 "nbformat_minor": 2
}
